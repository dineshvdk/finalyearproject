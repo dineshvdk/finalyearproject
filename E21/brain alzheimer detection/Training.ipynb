{
 "cells": [
  {
   "cell_type": "code",
   "execution_count": null,
   "metadata": {
    "executionInfo": {
     "elapsed": 2990,
     "status": "ok",
     "timestamp": 1651361273410,
     "user": {
      "displayName": "Resberry Python",
      "userId": "01269134258877722026"
     },
     "user_tz": -330
    },
    "id": "5ALbRlIMbyoE"
   },
   "outputs": [],
   "source": [
    "import tensorflow as tf\n",
    "import os\n",
    "import numpy as np\n",
    "import matplotlib.pyplot as plt\n",
    "from tensorflow import keras\n",
    "from tensorflow.keras.models import Sequential\n",
    "from tensorflow.keras.layers import Conv2D,Dense,Flatten,Dropout,MaxPool2D,Dropout\n",
    "from tensorflow.keras.preprocessing.image import ImageDataGenerator"
   ]
  },
  {
   "cell_type": "code",
   "execution_count": null,
   "metadata": {
    "executionInfo": {
     "elapsed": 513,
     "status": "ok",
     "timestamp": 1651361411513,
     "user": {
      "displayName": "Resberry Python",
      "userId": "01269134258877722026"
     },
     "user_tz": -330
    },
    "id": "iBqMbKlDzwGk"
   },
   "outputs": [],
   "source": [
    "base_dir =\"input\"\n",
    "train_dir = os.path.join(base_dir, 'Training')\n",
    "val_dir = os.path.join(base_dir, 'Testing')\n",
    "test_dir = os.path.join(base_dir, 'Testing')"
   ]
  },
  {
   "cell_type": "code",
   "execution_count": null,
   "metadata": {
    "executionInfo": {
     "elapsed": 4,
     "status": "ok",
     "timestamp": 1651361426816,
     "user": {
      "displayName": "Resberry Python",
      "userId": "01269134258877722026"
     },
     "user_tz": -330
    },
    "id": "QcgtooJWz3kC"
   },
   "outputs": [],
   "source": [
    "epochs = 15\n",
    "batch_size = 32\n",
    "IMG_HEIGHT = 224\n",
    "IMG_WIDTH = 224"
   ]
  },
  {
   "cell_type": "code",
   "execution_count": null,
   "metadata": {
    "executionInfo": {
     "elapsed": 837,
     "status": "ok",
     "timestamp": 1651361439452,
     "user": {
      "displayName": "Resberry Python",
      "userId": "01269134258877722026"
     },
     "user_tz": -330
    },
    "id": "aAmyljUnz8-5"
   },
   "outputs": [],
   "source": [
    "#Generate batches of tensor image data\n",
    "train_image_generator =  ImageDataGenerator(rescale = 1./255)\n",
    "val_image_generator = ImageDataGenerator(rescale = 1./255)\n",
    "test_image_generator = ImageDataGenerator(rescale=1./255)"
   ]
  },
  {
   "cell_type": "code",
   "execution_count": null,
   "metadata": {
    "colab": {
     "base_uri": "https://localhost:8080/"
    },
    "executionInfo": {
     "elapsed": 6453,
     "status": "ok",
     "timestamp": 1651361468109,
     "user": {
      "displayName": "Resberry Python",
      "userId": "01269134258877722026"
     },
     "user_tz": -330
    },
    "id": "AihhYiM00CX9",
    "outputId": "b28694d5-5f0d-41b4-ec59-ccc759f81dfb"
   },
   "outputs": [],
   "source": [
    "#generates batches for train , val and test using directory path\n",
    "train_data_generator = train_image_generator.flow_from_directory(\n",
    "    train_dir,\n",
    "    target_size = (IMG_HEIGHT,IMG_WIDTH),\n",
    "    batch_size = batch_size,\n",
    "    shuffle = True,\n",
    "    class_mode = 'categorical'\n",
    ")\n",
    "\n",
    "val_data_generator = val_image_generator.flow_from_directory(\n",
    "    directory = val_dir,\n",
    "    target_size = (IMG_HEIGHT,IMG_WIDTH),\n",
    "    batch_size = batch_size,\n",
    "    shuffle = True,\n",
    "    class_mode = 'categorical'\n",
    ")\n",
    "\n",
    "test_data_generator = test_image_generator.flow_from_directory(\n",
    "    directory = test_dir,\n",
    "    target_size = (IMG_HEIGHT,IMG_WIDTH),\n",
    "    batch_size = batch_size,\n",
    "    class_mode = \"categorical\"\n",
    ")"
   ]
  },
  {
   "cell_type": "code",
   "execution_count": null,
   "metadata": {
    "colab": {
     "base_uri": "https://localhost:8080/",
     "height": 591
    },
    "executionInfo": {
     "elapsed": 24470,
     "status": "ok",
     "timestamp": 1651361525471,
     "user": {
      "displayName": "Resberry Python",
      "userId": "01269134258877722026"
     },
     "user_tz": -330
    },
    "id": "VgmaOJelQyzP",
    "outputId": "bfccc985-6fd1-4aac-e79e-435b87db65bb"
   },
   "outputs": [],
   "source": [
    "image_batch, label_batch = next(iter(train_data_generator))\n",
    "import matplotlib.pyplot as plt\n",
    "class_names=list(train_data_generator.class_indices.keys())\n",
    "plt.figure(figsize=(10, 10))\n",
    "for i in range(9):\n",
    "  ax = plt.subplot(3, 3, i + 1)\n",
    "  plt.imshow(image_batch[i])\n",
    "  label = label_batch[i].tolist().index(max(label_batch[i].tolist()))\n",
    "  plt.title(class_names[label])\n",
    "  plt.axis(\"off\")"
   ]
  },
  {
   "cell_type": "code",
   "execution_count": null,
   "metadata": {
    "colab": {
     "base_uri": "https://localhost:8080/"
    },
    "executionInfo": {
     "elapsed": 9274,
     "status": "ok",
     "timestamp": 1651361557742,
     "user": {
      "displayName": "Resberry Python",
      "userId": "01269134258877722026"
     },
     "user_tz": -330
    },
    "id": "3efvR5OUbyoL",
    "outputId": "34c0c1c9-33fe-495b-e3de-f2c71c6f1efb"
   },
   "outputs": [],
   "source": [
    "for image_batch, label_match in train_data_generator:\n",
    "    break\n",
    "image_batch.shape, label_match.shape"
   ]
  },
  {
   "cell_type": "code",
   "execution_count": null,
   "metadata": {
    "colab": {
     "base_uri": "https://localhost:8080/"
    },
    "executionInfo": {
     "elapsed": 502,
     "status": "ok",
     "timestamp": 1651361566615,
     "user": {
      "displayName": "Resberry Python",
      "userId": "01269134258877722026"
     },
     "user_tz": -330
    },
    "id": "mazZtXs10b9i",
    "outputId": "ccd67dd6-5c7f-48c3-97ba-0db4d052a3d2"
   },
   "outputs": [],
   "source": [
    "labels = train_data_generator.class_indices\n",
    "print(labels)"
   ]
  },
  {
   "cell_type": "code",
   "execution_count": null,
   "metadata": {
    "colab": {
     "base_uri": "https://localhost:8080/"
    },
    "executionInfo": {
     "elapsed": 645,
     "status": "ok",
     "timestamp": 1651361582171,
     "user": {
      "displayName": "Resberry Python",
      "userId": "01269134258877722026"
     },
     "user_tz": -330
    },
    "id": "OMapoG9aBtWo",
    "outputId": "b1df23fd-aeb0-44fe-cc43-119a93f3599a"
   },
   "outputs": [],
   "source": [
    "dataset_labels = sorted(train_data_generator.class_indices.items())\n",
    "dataset_labels = np.array([key.title() for key, value in dataset_labels])\n",
    "print(dataset_labels)"
   ]
  },
  {
   "cell_type": "code",
   "execution_count": null,
   "metadata": {
    "colab": {
     "base_uri": "https://localhost:8080/"
    },
    "executionInfo": {
     "elapsed": 4048,
     "status": "ok",
     "timestamp": 1651361638697,
     "user": {
      "displayName": "Resberry Python",
      "userId": "01269134258877722026"
     },
     "user_tz": -330
    },
    "id": "c6j6JV2X0ngK",
    "outputId": "663beb19-0d74-4fcf-d3f5-f5584f8ffc57"
   },
   "outputs": [],
   "source": [
    "base_model = tf.keras.applications.VGG16(input_shape=(IMG_HEIGHT,IMG_WIDTH,3),\n",
    "                                              include_top=False, \n",
    "                                              weights='imagenet')"
   ]
  },
  {
   "cell_type": "code",
   "execution_count": null,
   "metadata": {
    "colab": {
     "base_uri": "https://localhost:8080/"
    },
    "executionInfo": {
     "elapsed": 613,
     "status": "ok",
     "timestamp": 1651361658647,
     "user": {
      "displayName": "Resberry Python",
      "userId": "01269134258877722026"
     },
     "user_tz": -330
    },
    "id": "xnegO_5NbMbS",
    "outputId": "12d526b1-6a69-428e-fb3b-3dd9b41fc1c5"
   },
   "outputs": [],
   "source": [
    "base_model.summary()"
   ]
  },
  {
   "cell_type": "code",
   "execution_count": null,
   "metadata": {
    "executionInfo": {
     "elapsed": 748,
     "status": "ok",
     "timestamp": 1651361683640,
     "user": {
      "displayName": "Resberry Python",
      "userId": "01269134258877722026"
     },
     "user_tz": -330
    },
    "id": "HPqIvq1Z0zVN"
   },
   "outputs": [],
   "source": [
    "base_model.trainable = False"
   ]
  },
  {
   "cell_type": "code",
   "execution_count": null,
   "metadata": {
    "executionInfo": {
     "elapsed": 7,
     "status": "ok",
     "timestamp": 1651361720295,
     "user": {
      "displayName": "Resberry Python",
      "userId": "01269134258877722026"
     },
     "user_tz": -330
    },
    "id": "2_kiJoXObyoW"
   },
   "outputs": [],
   "source": [
    "model = tf.keras.Sequential([\n",
    "  base_model,\n",
    "  tf.keras.layers.Conv2D(32, 3, activation='relu'),\n",
    "  tf.keras.layers.Dropout(0.2),\n",
    "  tf.keras.layers.GlobalAveragePooling2D(),\n",
    "  tf.keras.layers.Dense(4, activation='softmax')\n",
    "])"
   ]
  },
  {
   "cell_type": "code",
   "execution_count": null,
   "metadata": {
    "executionInfo": {
     "elapsed": 499,
     "status": "ok",
     "timestamp": 1651361744783,
     "user": {
      "displayName": "Resberry Python",
      "userId": "01269134258877722026"
     },
     "user_tz": -330
    },
    "id": "Gdt_s9TO1C6c"
   },
   "outputs": [],
   "source": [
    "#compile the model\n",
    "model.compile(optimizer=tf.keras.optimizers.Adam(), \n",
    "              loss='categorical_crossentropy', \n",
    "              metrics=['accuracy'])"
   ]
  },
  {
   "cell_type": "code",
   "execution_count": null,
   "metadata": {
    "colab": {
     "base_uri": "https://localhost:8080/"
    },
    "executionInfo": {
     "elapsed": 13,
     "status": "ok",
     "timestamp": 1651361773547,
     "user": {
      "displayName": "Resberry Python",
      "userId": "01269134258877722026"
     },
     "user_tz": -330
    },
    "id": "7cP9IEmXrxM2",
    "outputId": "dd383c44-7180-440e-cae2-095ab5e5d3d2"
   },
   "outputs": [],
   "source": [
    "#check model summary\n",
    "model.summary()"
   ]
  },
  {
   "cell_type": "code",
   "execution_count": null,
   "metadata": {
    "colab": {
     "base_uri": "https://localhost:8080/"
    },
    "executionInfo": {
     "elapsed": 1511758,
     "status": "ok",
     "timestamp": 1651363322126,
     "user": {
      "displayName": "Resberry Python",
      "userId": "01269134258877722026"
     },
     "user_tz": -330
    },
    "id": "LK4cqhTs1TyE",
    "outputId": "847fccbf-9150-4b42-b85d-b9767396906d"
   },
   "outputs": [],
   "source": [
    "history = model.fit_generator(train_data_generator, \n",
    "                    epochs=epochs, \n",
    "                    validation_data=val_data_generator)"
   ]
  },
  {
   "cell_type": "code",
   "execution_count": null,
   "metadata": {
    "colab": {
     "base_uri": "https://localhost:8080/"
    },
    "executionInfo": {
     "elapsed": 4516,
     "status": "ok",
     "timestamp": 1651363343368,
     "user": {
      "displayName": "Resberry Python",
      "userId": "01269134258877722026"
     },
     "user_tz": -330
    },
    "id": "SEcRJcLs1xkV",
    "outputId": "1aa017d2-eb5d-4f2c-896d-8ebc704e0739"
   },
   "outputs": [],
   "source": [
    "#find loss and accuracy on test data\n",
    "test_loss, test_acc = model.evaluate_generator(test_data_generator)\n",
    "print('test acc:', test_acc)"
   ]
  },
  {
   "cell_type": "code",
   "execution_count": null,
   "metadata": {
    "executionInfo": {
     "elapsed": 4,
     "status": "ok",
     "timestamp": 1651363408734,
     "user": {
      "displayName": "Resberry Python",
      "userId": "01269134258877722026"
     },
     "user_tz": -330
    },
    "id": "9DPyjZQi1440"
   },
   "outputs": [],
   "source": [
    "model.save(\"brain_model_pretrain_v1.h5\")"
   ]
  },
  {
   "cell_type": "code",
   "execution_count": null,
   "metadata": {
    "colab": {
     "base_uri": "https://localhost:8080/"
    },
    "executionInfo": {
     "elapsed": 1661,
     "status": "ok",
     "timestamp": 1651363419037,
     "user": {
      "displayName": "Resberry Python",
      "userId": "01269134258877722026"
     },
     "user_tz": -330
    },
    "id": "Qk9EDIQ67PcN",
    "outputId": "97324287-8bac-4fb5-ffff-d8ee819c7eb5"
   },
   "outputs": [],
   "source": [
    "#now load the above save model\n",
    "brain_model = tf.keras.models.load_model(\"brain_model_pretrain_v1.h5\")\n",
    "print(brain_model)"
   ]
  },
  {
   "cell_type": "code",
   "execution_count": null,
   "metadata": {
    "colab": {
     "base_uri": "https://localhost:8080/"
    },
    "executionInfo": {
     "elapsed": 599,
     "status": "ok",
     "timestamp": 1651363480111,
     "user": {
      "displayName": "Resberry Python",
      "userId": "01269134258877722026"
     },
     "user_tz": -330
    },
    "id": "6iOUpaYE7gf_",
    "outputId": "1a3d4856-eada-4b0c-ac4f-e60c60f38dd8"
   },
   "outputs": [],
   "source": [
    "base_model.trainable = True\n",
    "# Let's take a look to see how many layers are in the base model\n",
    "print(\"Number of layers in the base model: \", len(base_model.layers))\n",
    "#start training layer from block 5\n",
    "base_model.trainable = True\n",
    "set_trainable = False\n",
    "for layer in base_model.layers:\n",
    "    if layer.name == 'block5_conv1':\n",
    "        set_trainable = True\n",
    "    if set_trainable:\n",
    "        layer.trainable = True\n",
    "    else:\n",
    "        layer.trainable = False"
   ]
  },
  {
   "cell_type": "code",
   "execution_count": null,
   "metadata": {
    "executionInfo": {
     "elapsed": 3,
     "status": "ok",
     "timestamp": 1651363498559,
     "user": {
      "displayName": "Resberry Python",
      "userId": "01269134258877722026"
     },
     "user_tz": -330
    },
    "id": "lkFLFUgl7v0F"
   },
   "outputs": [],
   "source": [
    "#compile the model\n",
    "model.compile(loss='categorical_crossentropy',\n",
    "              optimizer = tf.keras.optimizers.Adam(1e-5),\n",
    "              metrics=['accuracy'])"
   ]
  },
  {
   "cell_type": "code",
   "execution_count": null,
   "metadata": {
    "colab": {
     "base_uri": "https://localhost:8080/"
    },
    "executionInfo": {
     "elapsed": 1001,
     "status": "ok",
     "timestamp": 1651363529107,
     "user": {
      "displayName": "Resberry Python",
      "userId": "01269134258877722026"
     },
     "user_tz": -330
    },
    "id": "08a2XuEL705s",
    "outputId": "f0fbae9f-9460-496c-83e2-8d805a26c84b",
    "scrolled": true
   },
   "outputs": [],
   "source": [
    "#check accuracy\n",
    "model.summary()"
   ]
  },
  {
   "cell_type": "code",
   "execution_count": null,
   "metadata": {
    "colab": {
     "base_uri": "https://localhost:8080/"
    },
    "executionInfo": {
     "elapsed": 323768,
     "status": "ok",
     "timestamp": 1651363874574,
     "user": {
      "displayName": "Resberry Python",
      "userId": "01269134258877722026"
     },
     "user_tz": -330
    },
    "id": "siKQilPZ77zs",
    "outputId": "edfc86e9-6927-4a51-9ad1-0739d59c015d"
   },
   "outputs": [],
   "source": [
    "#start training\n",
    "history_fine = model.fit_generator(train_data_generator, \n",
    "                         epochs=10,\n",
    "                         validation_data=val_data_generator)"
   ]
  },
  {
   "cell_type": "code",
   "execution_count": null,
   "metadata": {
    "executionInfo": {
     "elapsed": 549,
     "status": "ok",
     "timestamp": 1651364228203,
     "user": {
      "displayName": "Resberry Python",
      "userId": "01269134258877722026"
     },
     "user_tz": -330
    },
    "id": "53wDBfoK8KjO"
   },
   "outputs": [],
   "source": [
    "model.save(\"models/brain_model_finetune.h5\")\n"
   ]
  },
  {
   "cell_type": "code",
   "execution_count": null,
   "metadata": {},
   "outputs": [],
   "source": []
  },
  {
   "cell_type": "code",
   "execution_count": null,
   "metadata": {},
   "outputs": [],
   "source": []
  },
  {
   "cell_type": "code",
   "execution_count": null,
   "metadata": {},
   "outputs": [],
   "source": []
  },
  {
   "cell_type": "code",
   "execution_count": null,
   "metadata": {},
   "outputs": [],
   "source": []
  }
 ],
 "metadata": {
  "accelerator": "GPU",
  "colab": {
   "collapsed_sections": [],
   "name": "cnn brain tumor classification.ipynb",
   "provenance": []
  },
  "kernelspec": {
   "display_name": "Python 3 (ipykernel)",
   "language": "python",
   "name": "python3"
  },
  "language_info": {
   "codemirror_mode": {
    "name": "ipython",
    "version": 3
   },
   "file_extension": ".py",
   "mimetype": "text/x-python",
   "name": "python",
   "nbconvert_exporter": "python",
   "pygments_lexer": "ipython3",
   "version": "3.10.9"
  }
 },
 "nbformat": 4,
 "nbformat_minor": 1
}
