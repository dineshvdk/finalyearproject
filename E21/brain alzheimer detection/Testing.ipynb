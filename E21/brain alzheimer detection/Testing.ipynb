{
 "cells": [
  {
   "cell_type": "code",
   "execution_count": 1,
   "metadata": {
    "colab": {
     "base_uri": "https://localhost:8080/",
     "height": 34
    },
    "colab_type": "code",
    "id": "KFF2ufZqbC9_",
    "outputId": "3472fd8b-0a6e-4c69-ea25-f7a494f3c9e5"
   },
   "outputs": [],
   "source": [
    "import tensorflow as tf\n",
    "import os\n",
    "import numpy as np\n",
    "from tensorflow import keras\n",
    "from tensorflow.keras.preprocessing.image import ImageDataGenerator"
   ]
  },
  {
   "cell_type": "code",
   "execution_count": 2,
   "metadata": {
    "colab": {},
    "colab_type": "code",
    "id": "eV0PtKp6dkfw"
   },
   "outputs": [],
   "source": [
    "#load trained model\n",
    "model = tf.keras.models.load_model('models/brain_model_finetune.h5')"
   ]
  },
  {
   "cell_type": "code",
   "execution_count": 3,
   "metadata": {
    "colab": {
     "base_uri": "https://localhost:8080/",
     "height": 323
    },
    "colab_type": "code",
    "id": "diGeUh3Kdq9y",
    "outputId": "14e55558-4f17-4dc5-9110-aa8d825c4e93"
   },
   "outputs": [
    {
     "name": "stdout",
     "output_type": "stream",
     "text": [
      "Model: \"sequential\"\n",
      "_________________________________________________________________\n",
      " Layer (type)                Output Shape              Param #   \n",
      "=================================================================\n",
      " vgg16 (Functional)          (None, 7, 7, 512)         14714688  \n",
      "                                                                 \n",
      " conv2d (Conv2D)             (None, 5, 5, 32)          147488    \n",
      "                                                                 \n",
      " dropout (Dropout)           (None, 5, 5, 32)          0         \n",
      "                                                                 \n",
      " global_average_pooling2d (G  (None, 32)               0         \n",
      " lobalAveragePooling2D)                                          \n",
      "                                                                 \n",
      " dense (Dense)               (None, 4)                 132       \n",
      "                                                                 \n",
      "=================================================================\n",
      "Total params: 14,862,308\n",
      "Trainable params: 7,227,044\n",
      "Non-trainable params: 7,635,264\n",
      "_________________________________________________________________\n"
     ]
    }
   ],
   "source": [
    "model.summary()"
   ]
  },
  {
   "cell_type": "code",
   "execution_count": 4,
   "metadata": {
    "colab": {},
    "colab_type": "code",
    "id": "S_lUjQHBdtCw"
   },
   "outputs": [],
   "source": [
    "base_dir = \"input\"\n",
    "test_dir = os.path.join(base_dir, 'Testing')"
   ]
  },
  {
   "cell_type": "code",
   "execution_count": 5,
   "metadata": {
    "colab": {},
    "colab_type": "code",
    "id": "n6vS39jhdwH4"
   },
   "outputs": [],
   "source": [
    "(IMG_HEIGHT,IMG_WIDTH) = (224,224)\n",
    "batch_size = 160"
   ]
  },
  {
   "cell_type": "code",
   "execution_count": 6,
   "metadata": {
    "colab": {},
    "colab_type": "code",
    "id": "dNxfFMwld0t_"
   },
   "outputs": [],
   "source": [
    "#testing data as batches of tensor image data\n",
    "test_image_generator = ImageDataGenerator(rescale=1./255)"
   ]
  },
  {
   "cell_type": "code",
   "execution_count": 7,
   "metadata": {
    "colab": {
     "base_uri": "https://localhost:8080/",
     "height": 34
    },
    "colab_type": "code",
    "id": "0TJqO223d3CX",
    "outputId": "f462c80c-2528-43d6-d1a6-b17b5e4fa5dd"
   },
   "outputs": [
    {
     "name": "stdout",
     "output_type": "stream",
     "text": [
      "Found 256 images belonging to 4 classes.\n"
     ]
    }
   ],
   "source": [
    "test_data_generator = test_image_generator.flow_from_directory(\n",
    "    directory = test_dir,\n",
    "    target_size = (IMG_HEIGHT,IMG_WIDTH),\n",
    "    batch_size = batch_size,\n",
    "    class_mode = \"categorical\"\n",
    ")"
   ]
  },
  {
   "cell_type": "code",
   "execution_count": 8,
   "metadata": {
    "colab": {
     "base_uri": "https://localhost:8080/",
     "height": 34
    },
    "colab_type": "code",
    "id": "JQocGw9ed4m_",
    "outputId": "f5120730-f4e4-4036-ab09-8e9577fcb2a9"
   },
   "outputs": [
    {
     "name": "stdout",
     "output_type": "stream",
     "text": [
      "{'Mild_Demented': 0, 'Moderate_Demented': 1, 'Non_Demented': 2, 'Very_Mild_Demented': 3}\n"
     ]
    }
   ],
   "source": [
    "labels = test_data_generator.class_indices\n",
    "print(labels)"
   ]
  },
  {
   "cell_type": "code",
   "execution_count": 9,
   "metadata": {
    "colab": {
     "base_uri": "https://localhost:8080/",
     "height": 34
    },
    "colab_type": "code",
    "id": "J_rzLq--d6Xo",
    "outputId": "ed14c525-1997-4a82-8fe5-9f5d1af8d2ed"
   },
   "outputs": [
    {
     "name": "stdout",
     "output_type": "stream",
     "text": [
      "['Mild_Demented' 'Moderate_Demented' 'Non_Demented' 'Very_Mild_Demented']\n"
     ]
    }
   ],
   "source": [
    "# Learn about dataset labels\n",
    "\n",
    "dataset_labels = sorted(test_data_generator.class_indices.items())\n",
    "dataset_labels = np.array([key.title() for key, value in dataset_labels])\n",
    "print(dataset_labels)"
   ]
  },
  {
   "cell_type": "code",
   "execution_count": 10,
   "metadata": {
    "colab": {
     "base_uri": "https://localhost:8080/",
     "height": 34
    },
    "colab_type": "code",
    "id": "nfStTixod8bG",
    "outputId": "4be95f1a-a71c-4599-c24c-362529664a27"
   },
   "outputs": [
    {
     "name": "stdout",
     "output_type": "stream",
     "text": [
      "test batch shape: (160, 224, 224, 3)\n"
     ]
    }
   ],
   "source": [
    "#check the shape\n",
    "test_image_batch, test_label_batch = next(iter(test_data_generator))\n",
    "true_label_ids = np.argmax(test_label_batch, axis=-1)\n",
    "\n",
    "print(\"test batch shape:\", test_image_batch.shape)"
   ]
  },
  {
   "cell_type": "code",
   "execution_count": 11,
   "metadata": {
    "colab": {
     "base_uri": "https://localhost:8080/",
     "height": 34
    },
    "colab_type": "code",
    "id": "OUmBof2t5BeZ",
    "outputId": "eca957bf-3fbc-4ac3-dfa9-ce11979ab762"
   },
   "outputs": [
    {
     "data": {
      "text/plain": [
       "(224, 224, 3)"
      ]
     },
     "execution_count": 11,
     "metadata": {},
     "output_type": "execute_result"
    }
   ],
   "source": [
    "test_image_batch[0].shape"
   ]
  },
  {
   "cell_type": "code",
   "execution_count": 12,
   "metadata": {
    "colab": {
     "base_uri": "https://localhost:8080/",
     "height": 1000
    },
    "colab_type": "code",
    "id": "Otneq6N0d-Ea",
    "outputId": "da4f5704-4aab-406d-b980-1d9b88ebe3ef"
   },
   "outputs": [
    {
     "name": "stdout",
     "output_type": "stream",
     "text": [
      "5/5 [==============================] - 20s 4s/step\n"
     ]
    }
   ],
   "source": [
    "# predict probabilities for test set\n",
    "yhat_probs = model.predict(test_image_batch)"
   ]
  },
  {
   "cell_type": "code",
   "execution_count": 13,
   "metadata": {
    "scrolled": true
   },
   "outputs": [
    {
     "data": {
      "text/plain": [
       "array([0.25054157, 0.00090766, 0.28742728, 0.46112344], dtype=float32)"
      ]
     },
     "execution_count": 13,
     "metadata": {},
     "output_type": "execute_result"
    }
   ],
   "source": [
    "yhat_probs[0]"
   ]
  },
  {
   "cell_type": "code",
   "execution_count": 14,
   "metadata": {},
   "outputs": [
    {
     "data": {
      "text/plain": [
       "[3,\n",
       " 2,\n",
       " 3,\n",
       " 3,\n",
       " 3,\n",
       " 2,\n",
       " 0,\n",
       " 1,\n",
       " 0,\n",
       " 0,\n",
       " 3,\n",
       " 0,\n",
       " 0,\n",
       " 2,\n",
       " 0,\n",
       " 0,\n",
       " 2,\n",
       " 0,\n",
       " 0,\n",
       " 1,\n",
       " 1,\n",
       " 3,\n",
       " 1,\n",
       " 1,\n",
       " 1,\n",
       " 1,\n",
       " 1,\n",
       " 2,\n",
       " 0,\n",
       " 0,\n",
       " 2,\n",
       " 3,\n",
       " 0,\n",
       " 3,\n",
       " 0,\n",
       " 0,\n",
       " 1,\n",
       " 0,\n",
       " 1,\n",
       " 0,\n",
       " 0,\n",
       " 2,\n",
       " 3,\n",
       " 1,\n",
       " 1,\n",
       " 0,\n",
       " 1,\n",
       " 3,\n",
       " 1,\n",
       " 2,\n",
       " 3,\n",
       " 1,\n",
       " 0,\n",
       " 0,\n",
       " 1,\n",
       " 0,\n",
       " 1,\n",
       " 1,\n",
       " 0,\n",
       " 0,\n",
       " 1,\n",
       " 3,\n",
       " 0,\n",
       " 1,\n",
       " 0,\n",
       " 1,\n",
       " 3,\n",
       " 2,\n",
       " 1,\n",
       " 1,\n",
       " 2,\n",
       " 0,\n",
       " 1,\n",
       " 0,\n",
       " 2,\n",
       " 1,\n",
       " 2,\n",
       " 1,\n",
       " 3,\n",
       " 3,\n",
       " 0,\n",
       " 0,\n",
       " 1,\n",
       " 3,\n",
       " 1,\n",
       " 3,\n",
       " 3,\n",
       " 0,\n",
       " 1,\n",
       " 3,\n",
       " 3,\n",
       " 1,\n",
       " 3,\n",
       " 3,\n",
       " 1,\n",
       " 0,\n",
       " 2,\n",
       " 0,\n",
       " 1,\n",
       " 1,\n",
       " 3,\n",
       " 3,\n",
       " 1,\n",
       " 1,\n",
       " 0,\n",
       " 0,\n",
       " 1,\n",
       " 3,\n",
       " 3,\n",
       " 3,\n",
       " 1,\n",
       " 1,\n",
       " 3,\n",
       " 2,\n",
       " 1,\n",
       " 2,\n",
       " 3,\n",
       " 2,\n",
       " 1,\n",
       " 1,\n",
       " 2,\n",
       " 0,\n",
       " 1,\n",
       " 2,\n",
       " 3,\n",
       " 3,\n",
       " 2,\n",
       " 0,\n",
       " 3,\n",
       " 2,\n",
       " 0,\n",
       " 0,\n",
       " 0,\n",
       " 3,\n",
       " 0,\n",
       " 3,\n",
       " 0,\n",
       " 0,\n",
       " 1,\n",
       " 3,\n",
       " 3,\n",
       " 1,\n",
       " 0,\n",
       " 0,\n",
       " 0,\n",
       " 1,\n",
       " 3,\n",
       " 3,\n",
       " 3,\n",
       " 0,\n",
       " 2,\n",
       " 1,\n",
       " 2,\n",
       " 0,\n",
       " 0,\n",
       " 3,\n",
       " 3,\n",
       " 2,\n",
       " 1,\n",
       " 1]"
      ]
     },
     "execution_count": 14,
     "metadata": {},
     "output_type": "execute_result"
    }
   ],
   "source": [
    "yhat_classes=[]\n",
    "for i in yhat_probs:\n",
    "    data=i.tolist()\n",
    "   \n",
    "    maxvalue=data.index(max(data))\n",
    "   \n",
    "    yhat_classes.append(maxvalue)\n",
    "yhat_classes"
   ]
  },
  {
   "cell_type": "code",
   "execution_count": 15,
   "metadata": {},
   "outputs": [
    {
     "data": {
      "text/plain": [
       "array([[2.50541568e-01, 9.07661219e-04, 2.87427276e-01, 4.61123437e-01],\n",
       "       [8.36458877e-02, 7.65724224e-04, 5.49912572e-01, 3.65675807e-01],\n",
       "       [3.22536707e-01, 1.07199140e-02, 1.79436460e-01, 4.87306952e-01],\n",
       "       [7.39671886e-02, 2.59010517e-03, 1.66395843e-01, 7.57046878e-01],\n",
       "       [4.68177646e-02, 1.73299995e-04, 1.09656408e-01, 8.43352497e-01],\n",
       "       [3.03973481e-02, 7.30793909e-05, 7.93426752e-01, 1.76102877e-01],\n",
       "       [8.04471672e-01, 1.00630475e-03, 1.09024890e-01, 8.54972228e-02],\n",
       "       [2.66795792e-06, 9.99993086e-01, 9.90935291e-07, 3.25917267e-06],\n",
       "       [8.88339937e-01, 4.14205622e-03, 3.42298448e-02, 7.32881650e-02],\n",
       "       [7.36455560e-01, 3.92440427e-03, 8.67251009e-02, 1.72894880e-01],\n",
       "       [1.34746924e-01, 1.47965108e-03, 1.65911064e-01, 6.97862387e-01],\n",
       "       [9.19174492e-01, 7.40506293e-05, 4.01220918e-02, 4.06293049e-02],\n",
       "       [6.62759483e-01, 9.40976242e-05, 1.90354779e-01, 1.46791652e-01],\n",
       "       [7.81223690e-03, 2.60772722e-05, 5.37588418e-01, 4.54573274e-01],\n",
       "       [8.23862076e-01, 5.70390432e-04, 8.22583735e-02, 9.33091864e-02],\n",
       "       [8.45846891e-01, 1.41296559e-03, 6.84872568e-02, 8.42529163e-02],\n",
       "       [7.96230882e-02, 1.73843400e-05, 8.30289662e-01, 9.00699273e-02],\n",
       "       [9.14889812e-01, 3.61642160e-05, 4.26683985e-02, 4.24056128e-02],\n",
       "       [5.59993505e-01, 1.66089670e-03, 1.78448170e-01, 2.59897411e-01],\n",
       "       [3.29208488e-05, 9.99690175e-01, 4.47367165e-05, 2.32089136e-04],\n",
       "       [1.15140993e-02, 9.78305101e-01, 2.37990799e-03, 7.80094462e-03],\n",
       "       [5.97877055e-02, 2.54815235e-03, 2.73032993e-01, 6.64631188e-01],\n",
       "       [2.12314390e-02, 9.54559207e-01, 4.82761208e-03, 1.93818416e-02],\n",
       "       [1.08281663e-03, 9.96814311e-01, 7.72628933e-04, 1.33031956e-03],\n",
       "       [2.61344721e-05, 9.99938250e-01, 1.04170113e-05, 2.51569691e-05],\n",
       "       [3.88325367e-04, 9.99120891e-01, 1.93379165e-04, 2.97395600e-04],\n",
       "       [2.72978126e-04, 9.99375165e-01, 1.37454568e-04, 2.14383166e-04],\n",
       "       [3.76881510e-02, 1.04574847e-05, 7.99624264e-01, 1.62677050e-01],\n",
       "       [4.07715201e-01, 5.75271901e-04, 2.27209955e-01, 3.64499629e-01],\n",
       "       [6.26003027e-01, 3.26188956e-03, 1.78319395e-01, 1.92415625e-01],\n",
       "       [2.04867646e-02, 2.30761361e-04, 8.51942360e-01, 1.27340108e-01],\n",
       "       [1.17024019e-01, 1.15267198e-04, 2.11682796e-01, 6.71177864e-01],\n",
       "       [4.50182348e-01, 9.27874353e-05, 2.68114567e-01, 2.81610280e-01],\n",
       "       [5.04572727e-02, 3.48761299e-04, 2.42158368e-01, 7.07035601e-01],\n",
       "       [4.83846545e-01, 2.79435830e-04, 2.49296576e-01, 2.66577393e-01],\n",
       "       [9.11713839e-01, 4.28565982e-04, 3.26575302e-02, 5.52001297e-02],\n",
       "       [2.39860819e-05, 9.99851108e-01, 3.40119586e-05, 9.08403454e-05],\n",
       "       [9.40561235e-01, 5.32278849e-04, 2.15880238e-02, 3.73184197e-02],\n",
       "       [4.54914029e-04, 9.98954892e-01, 1.97921938e-04, 3.92267015e-04],\n",
       "       [8.87351155e-01, 1.88617312e-04, 4.77667525e-02, 6.46934807e-02],\n",
       "       [5.93802750e-01, 8.72008968e-03, 2.42432624e-01, 1.55044526e-01],\n",
       "       [1.85433717e-03, 6.74006063e-04, 9.47584331e-01, 4.98872176e-02],\n",
       "       [6.27380386e-02, 3.44348482e-05, 1.89078793e-01, 7.48148739e-01],\n",
       "       [1.11511705e-04, 9.99324322e-01, 1.76772053e-04, 3.87456617e-04],\n",
       "       [2.95426235e-05, 9.99738276e-01, 5.60372464e-05, 1.76149610e-04],\n",
       "       [8.20571959e-01, 3.11283837e-03, 8.48233998e-02, 9.14917737e-02],\n",
       "       [1.21255500e-04, 9.97792602e-01, 3.63534811e-04, 1.72255922e-03],\n",
       "       [4.35821898e-02, 1.30667293e-03, 1.22916661e-01, 8.32194507e-01],\n",
       "       [4.60858901e-05, 9.99634504e-01, 8.94496334e-05, 2.29968427e-04],\n",
       "       [3.04877996e-01, 1.89569560e-04, 3.88137579e-01, 3.06794852e-01],\n",
       "       [1.96718171e-01, 1.28836732e-03, 2.93798447e-01, 5.08194983e-01],\n",
       "       [5.24282269e-03, 9.83348668e-01, 2.25999299e-03, 9.14850365e-03],\n",
       "       [9.67881083e-01, 4.06930223e-03, 1.21679744e-02, 1.58815980e-02],\n",
       "       [8.89740527e-01, 1.41244626e-03, 2.18379758e-02, 8.70089978e-02],\n",
       "       [4.17465391e-03, 9.93347168e-01, 8.00214475e-04, 1.67790311e-03],\n",
       "       [8.86519253e-01, 2.44701572e-04, 5.31199276e-02, 6.01161234e-02],\n",
       "       [6.74318289e-05, 9.99486685e-01, 1.24318496e-04, 3.21545609e-04],\n",
       "       [4.14854207e-04, 9.98947084e-01, 2.44063413e-04, 3.94035160e-04],\n",
       "       [8.64935756e-01, 1.38916177e-04, 6.99858516e-02, 6.49394915e-02],\n",
       "       [8.74594569e-01, 4.49467590e-03, 3.62389870e-02, 8.46717805e-02],\n",
       "       [6.27679890e-03, 9.70289886e-01, 5.77263674e-03, 1.76606458e-02],\n",
       "       [8.34501535e-02, 2.90744152e-04, 2.81341732e-01, 6.34917378e-01],\n",
       "       [6.37857080e-01, 1.13273854e-03, 1.96038157e-01, 1.64971948e-01],\n",
       "       [3.88204382e-04, 9.99274075e-01, 1.10204172e-04, 2.27520155e-04],\n",
       "       [8.19232881e-01, 1.41451217e-03, 7.66035318e-02, 1.02749079e-01],\n",
       "       [4.93933563e-04, 9.96051133e-01, 1.23257982e-03, 2.22241296e-03],\n",
       "       [2.43281096e-01, 1.49677927e-03, 2.19149634e-01, 5.36072493e-01],\n",
       "       [3.75700220e-02, 3.79643097e-05, 8.65044475e-01, 9.73475128e-02],\n",
       "       [1.87094574e-05, 9.99963641e-01, 6.83545886e-06, 1.08170680e-05],\n",
       "       [4.30041179e-03, 9.92135406e-01, 7.29724590e-04, 2.83444324e-03],\n",
       "       [2.88936228e-01, 1.34655391e-03, 5.41217744e-01, 1.68499425e-01],\n",
       "       [6.73040211e-01, 1.58768333e-03, 2.20796928e-01, 1.04575172e-01],\n",
       "       [6.19134335e-06, 9.99975801e-01, 3.88381022e-06, 1.40245520e-05],\n",
       "       [9.00593221e-01, 8.65297334e-04, 4.97689545e-02, 4.87724841e-02],\n",
       "       [2.39968579e-02, 7.85357115e-05, 7.67939568e-01, 2.07984984e-01],\n",
       "       [1.51085231e-04, 9.98215437e-01, 3.83403705e-04, 1.25006563e-03],\n",
       "       [1.05186051e-03, 1.79196359e-04, 9.80403066e-01, 1.83658842e-02],\n",
       "       [6.11272344e-06, 9.99984980e-01, 2.98010104e-06, 5.91617436e-06],\n",
       "       [2.19814509e-01, 6.15236908e-03, 2.14558244e-01, 5.59474885e-01],\n",
       "       [2.41591725e-02, 4.26678103e-04, 3.69606763e-01, 6.05807304e-01],\n",
       "       [9.08385456e-01, 1.08873050e-04, 4.56730910e-02, 4.58325930e-02],\n",
       "       [9.30830479e-01, 1.83186017e-03, 2.39882227e-02, 4.33494002e-02],\n",
       "       [8.30073562e-03, 9.65939641e-01, 5.45820128e-03, 2.03014780e-02],\n",
       "       [1.66522786e-01, 3.51995870e-04, 2.07834139e-01, 6.25291109e-01],\n",
       "       [6.88900612e-03, 9.88869667e-01, 9.52387461e-04, 3.28888581e-03],\n",
       "       [2.76913196e-02, 1.61884978e-04, 2.01768115e-01, 7.70378709e-01],\n",
       "       [8.70121792e-02, 3.08773830e-03, 1.81278601e-01, 7.28621542e-01],\n",
       "       [8.92243624e-01, 4.66396232e-05, 5.49136251e-02, 5.27960062e-02],\n",
       "       [4.79415321e-04, 9.97924685e-01, 4.34563553e-04, 1.16130104e-03],\n",
       "       [7.82938823e-02, 2.75779330e-05, 1.61889985e-01, 7.59788632e-01],\n",
       "       [2.95196950e-01, 1.07711554e-03, 3.35940987e-01, 3.67785007e-01],\n",
       "       [2.22030026e-03, 9.95773017e-01, 4.92355612e-04, 1.51431258e-03],\n",
       "       [4.73433472e-02, 3.11268773e-02, 3.86420459e-01, 5.35109222e-01],\n",
       "       [1.92289039e-01, 1.04278382e-02, 1.53947502e-01, 6.43335640e-01],\n",
       "       [1.02500526e-04, 9.99701083e-01, 5.18334455e-05, 1.44617006e-04],\n",
       "       [9.06322956e-01, 8.86504888e-04, 3.69906351e-02, 5.58000058e-02],\n",
       "       [7.11638853e-02, 8.19592213e-04, 7.98683524e-01, 1.29333004e-01],\n",
       "       [9.24548328e-01, 1.49469532e-03, 3.16634104e-02, 4.22936194e-02],\n",
       "       [4.52069435e-05, 9.99679804e-01, 7.09714441e-05, 2.03998061e-04],\n",
       "       [9.87477179e-05, 9.98882949e-01, 2.52957630e-04, 7.65263743e-04],\n",
       "       [4.69979756e-02, 1.12660264e-03, 2.55220830e-01, 6.96654499e-01],\n",
       "       [7.21172765e-02, 3.83853004e-03, 3.55477750e-01, 5.68566442e-01],\n",
       "       [5.51465526e-03, 9.89999354e-01, 1.00442115e-03, 3.48162348e-03],\n",
       "       [1.37419766e-03, 9.97524917e-01, 2.21874594e-04, 8.79056286e-04],\n",
       "       [9.11688864e-01, 3.15110595e-03, 5.06324023e-02, 3.45275514e-02],\n",
       "       [8.82083535e-01, 7.65609881e-03, 5.47559299e-02, 5.55045381e-02],\n",
       "       [1.79075659e-03, 9.97185409e-01, 2.16053450e-04, 8.07700504e-04],\n",
       "       [4.06211428e-02, 2.13923887e-03, 1.69885501e-01, 7.87354052e-01],\n",
       "       [6.53675646e-02, 4.40266309e-03, 3.37615550e-01, 5.92614293e-01],\n",
       "       [2.13206276e-01, 1.73921391e-04, 2.24096671e-01, 5.62523067e-01],\n",
       "       [5.17029141e-04, 9.96271968e-01, 1.31831493e-03, 1.89259695e-03],\n",
       "       [1.67263406e-05, 9.99903440e-01, 1.57186241e-05, 6.41293154e-05],\n",
       "       [2.14289218e-01, 1.22740846e-02, 1.02250502e-01, 6.71186149e-01],\n",
       "       [3.18552971e-01, 1.18547592e-04, 4.57381845e-01, 2.23946676e-01],\n",
       "       [1.41208693e-05, 9.99969840e-01, 5.54271537e-06, 1.05108757e-05],\n",
       "       [4.59936680e-03, 4.88103506e-05, 9.25016642e-01, 7.03351572e-02],\n",
       "       [3.94862853e-02, 1.03197308e-04, 4.76798594e-01, 4.83612001e-01],\n",
       "       [2.42150109e-02, 5.26988151e-05, 6.98132634e-01, 2.77599722e-01],\n",
       "       [2.16001761e-04, 9.98221695e-01, 6.50466420e-04, 9.11911251e-04],\n",
       "       [3.14704448e-05, 9.99501348e-01, 6.22795851e-05, 4.04836814e-04],\n",
       "       [5.13563445e-03, 9.13988624e-05, 9.77497756e-01, 1.72751173e-02],\n",
       "       [4.88415748e-01, 3.68464098e-04, 1.69387311e-01, 3.41828525e-01],\n",
       "       [2.28028857e-05, 9.99843478e-01, 3.42353960e-05, 9.94393704e-05],\n",
       "       [2.04534046e-02, 6.67723222e-03, 9.05041695e-01, 6.78275675e-02],\n",
       "       [1.08832031e-01, 8.91929213e-03, 3.52986723e-01, 5.29261887e-01],\n",
       "       [8.22724253e-02, 2.10122447e-02, 7.48004541e-02, 8.21914911e-01],\n",
       "       [7.54347676e-03, 5.14505524e-03, 9.54213023e-01, 3.30983438e-02],\n",
       "       [7.39544034e-01, 6.24112552e-04, 1.81532294e-01, 7.82995522e-02],\n",
       "       [2.13365272e-01, 4.22261888e-04, 1.46638274e-01, 6.39574230e-01],\n",
       "       [1.41936883e-01, 4.56025125e-03, 6.08844995e-01, 2.44657815e-01],\n",
       "       [9.31786656e-01, 1.06062251e-03, 1.72418114e-02, 4.99108694e-02],\n",
       "       [6.96591735e-01, 1.98462163e-03, 1.43434376e-01, 1.57989278e-01],\n",
       "       [7.50682890e-01, 7.01753248e-04, 8.14057142e-02, 1.67209670e-01],\n",
       "       [1.62877932e-01, 1.95862347e-04, 1.81320399e-01, 6.55605793e-01],\n",
       "       [9.60896134e-01, 4.94022795e-04, 1.99394058e-02, 1.86704248e-02],\n",
       "       [2.82973647e-01, 3.69819533e-03, 1.35038003e-01, 5.78290164e-01],\n",
       "       [9.27660227e-01, 1.47429714e-03, 3.30796316e-02, 3.77857983e-02],\n",
       "       [6.63356245e-01, 1.04837799e-02, 1.26235530e-01, 1.99924469e-01],\n",
       "       [1.01376609e-05, 9.99940872e-01, 1.10172850e-05, 3.80610472e-05],\n",
       "       [6.99904189e-02, 1.04715080e-04, 2.48473704e-01, 6.81431174e-01],\n",
       "       [6.89747408e-02, 1.70512445e-04, 9.76706594e-02, 8.33184063e-01],\n",
       "       [4.05516912e-05, 9.99646306e-01, 8.37586413e-05, 2.29437064e-04],\n",
       "       [8.46024513e-01, 2.56445841e-04, 7.56185204e-02, 7.81005323e-02],\n",
       "       [9.19212997e-01, 7.27541221e-04, 3.02377194e-02, 4.98217642e-02],\n",
       "       [8.45390499e-01, 3.22464318e-03, 8.38879570e-02, 6.74968883e-02],\n",
       "       [2.11935585e-05, 9.99959826e-01, 7.20209937e-06, 1.17733125e-05],\n",
       "       [1.00054167e-01, 1.28638741e-04, 1.25290707e-01, 7.74526536e-01],\n",
       "       [2.48896375e-01, 1.57833041e-03, 2.17846692e-01, 5.31678617e-01],\n",
       "       [1.32033765e-01, 9.87707055e-04, 2.04145357e-01, 6.62833214e-01],\n",
       "       [5.85750401e-01, 6.51515601e-03, 1.07516281e-01, 3.00218135e-01],\n",
       "       [1.05441008e-02, 2.05012198e-04, 7.98979878e-01, 1.90270990e-01],\n",
       "       [1.79664610e-04, 9.99542832e-01, 1.15689531e-04, 1.61853284e-04],\n",
       "       [1.42454170e-02, 2.50153273e-04, 9.07202244e-01, 7.83021599e-02],\n",
       "       [7.04378307e-01, 5.07192672e-05, 1.79697201e-01, 1.15873858e-01],\n",
       "       [9.12510335e-01, 5.43457642e-03, 3.17278765e-02, 5.03272563e-02],\n",
       "       [7.08959922e-02, 7.17695075e-05, 2.68302977e-01, 6.60729229e-01],\n",
       "       [1.98957145e-01, 2.00530878e-04, 2.13691071e-01, 5.87151229e-01],\n",
       "       [1.00973569e-01, 2.72314239e-04, 6.89819634e-01, 2.08934531e-01],\n",
       "       [2.57732370e-03, 9.92608368e-01, 1.14092208e-03, 3.67336394e-03],\n",
       "       [9.62747820e-03, 9.80541468e-01, 2.26462586e-03, 7.56640034e-03]],\n",
       "      dtype=float32)"
      ]
     },
     "execution_count": 15,
     "metadata": {},
     "output_type": "execute_result"
    }
   ],
   "source": [
    "yhat_probs"
   ]
  },
  {
   "cell_type": "code",
   "execution_count": 16,
   "metadata": {
    "colab": {
     "base_uri": "https://localhost:8080/",
     "height": 561
    },
    "colab_type": "code",
    "id": "U-7gcd9MeGnI",
    "outputId": "f03eba63-59d7-4914-c6ea-54ae8f218bd7"
   },
   "outputs": [
    {
     "data": {
      "text/plain": [
       "array(['Very_Mild_Demented', 'Non_Demented', 'Very_Mild_Demented',\n",
       "       'Very_Mild_Demented', 'Very_Mild_Demented', 'Non_Demented',\n",
       "       'Mild_Demented', 'Moderate_Demented', 'Mild_Demented',\n",
       "       'Mild_Demented', 'Very_Mild_Demented', 'Mild_Demented',\n",
       "       'Mild_Demented', 'Non_Demented', 'Mild_Demented', 'Mild_Demented',\n",
       "       'Non_Demented', 'Mild_Demented', 'Mild_Demented',\n",
       "       'Moderate_Demented', 'Moderate_Demented', 'Very_Mild_Demented',\n",
       "       'Moderate_Demented', 'Moderate_Demented', 'Moderate_Demented',\n",
       "       'Moderate_Demented', 'Moderate_Demented', 'Non_Demented',\n",
       "       'Mild_Demented', 'Mild_Demented', 'Non_Demented',\n",
       "       'Very_Mild_Demented', 'Mild_Demented', 'Very_Mild_Demented',\n",
       "       'Mild_Demented', 'Mild_Demented', 'Moderate_Demented',\n",
       "       'Mild_Demented', 'Moderate_Demented', 'Mild_Demented',\n",
       "       'Mild_Demented', 'Non_Demented', 'Very_Mild_Demented',\n",
       "       'Moderate_Demented', 'Moderate_Demented', 'Mild_Demented',\n",
       "       'Moderate_Demented', 'Very_Mild_Demented', 'Moderate_Demented',\n",
       "       'Non_Demented', 'Very_Mild_Demented', 'Moderate_Demented',\n",
       "       'Mild_Demented', 'Mild_Demented', 'Moderate_Demented',\n",
       "       'Mild_Demented', 'Moderate_Demented', 'Moderate_Demented',\n",
       "       'Mild_Demented', 'Mild_Demented', 'Moderate_Demented',\n",
       "       'Very_Mild_Demented', 'Mild_Demented', 'Moderate_Demented',\n",
       "       'Mild_Demented', 'Moderate_Demented', 'Very_Mild_Demented',\n",
       "       'Non_Demented', 'Moderate_Demented', 'Moderate_Demented',\n",
       "       'Non_Demented', 'Mild_Demented', 'Moderate_Demented',\n",
       "       'Mild_Demented', 'Non_Demented', 'Moderate_Demented',\n",
       "       'Non_Demented', 'Moderate_Demented', 'Very_Mild_Demented',\n",
       "       'Very_Mild_Demented', 'Mild_Demented', 'Mild_Demented',\n",
       "       'Moderate_Demented', 'Very_Mild_Demented', 'Moderate_Demented',\n",
       "       'Very_Mild_Demented', 'Very_Mild_Demented', 'Mild_Demented',\n",
       "       'Moderate_Demented', 'Very_Mild_Demented', 'Very_Mild_Demented',\n",
       "       'Moderate_Demented', 'Very_Mild_Demented', 'Very_Mild_Demented',\n",
       "       'Moderate_Demented', 'Mild_Demented', 'Non_Demented',\n",
       "       'Mild_Demented', 'Moderate_Demented', 'Moderate_Demented',\n",
       "       'Very_Mild_Demented', 'Very_Mild_Demented', 'Moderate_Demented',\n",
       "       'Moderate_Demented', 'Mild_Demented', 'Mild_Demented',\n",
       "       'Moderate_Demented', 'Very_Mild_Demented', 'Very_Mild_Demented',\n",
       "       'Very_Mild_Demented', 'Moderate_Demented', 'Moderate_Demented',\n",
       "       'Very_Mild_Demented', 'Non_Demented', 'Moderate_Demented',\n",
       "       'Non_Demented', 'Very_Mild_Demented', 'Non_Demented',\n",
       "       'Moderate_Demented', 'Moderate_Demented', 'Non_Demented',\n",
       "       'Mild_Demented', 'Moderate_Demented', 'Non_Demented',\n",
       "       'Very_Mild_Demented', 'Very_Mild_Demented', 'Non_Demented',\n",
       "       'Mild_Demented', 'Very_Mild_Demented', 'Non_Demented',\n",
       "       'Mild_Demented', 'Mild_Demented', 'Mild_Demented',\n",
       "       'Very_Mild_Demented', 'Mild_Demented', 'Very_Mild_Demented',\n",
       "       'Mild_Demented', 'Mild_Demented', 'Moderate_Demented',\n",
       "       'Very_Mild_Demented', 'Very_Mild_Demented', 'Moderate_Demented',\n",
       "       'Mild_Demented', 'Mild_Demented', 'Mild_Demented',\n",
       "       'Moderate_Demented', 'Very_Mild_Demented', 'Very_Mild_Demented',\n",
       "       'Very_Mild_Demented', 'Mild_Demented', 'Non_Demented',\n",
       "       'Moderate_Demented', 'Non_Demented', 'Mild_Demented',\n",
       "       'Mild_Demented', 'Very_Mild_Demented', 'Very_Mild_Demented',\n",
       "       'Non_Demented', 'Moderate_Demented', 'Moderate_Demented'],\n",
       "      dtype='<U18')"
      ]
     },
     "execution_count": 16,
     "metadata": {},
     "output_type": "execute_result"
    }
   ],
   "source": [
    "#convert numeric classes to real name class\n",
    "pred_class = np.array(list(list(labels.keys())[list(labels.values()).index(i)] for i in yhat_classes))\n",
    "pred_class"
   ]
  },
  {
   "cell_type": "code",
   "execution_count": 17,
   "metadata": {
    "colab": {},
    "colab_type": "code",
    "id": "3WPjIJJQeIQM"
   },
   "outputs": [],
   "source": [
    "#calculating metrics for a neural network model using sklearn\n",
    "from sklearn.metrics import accuracy_score\n",
    "from sklearn.metrics import precision_score\n",
    "from sklearn.metrics import recall_score\n",
    "from sklearn.metrics import f1_score\n",
    "from sklearn.metrics import confusion_matrix"
   ]
  },
  {
   "cell_type": "code",
   "execution_count": 18,
   "metadata": {
    "colab": {
     "base_uri": "https://localhost:8080/",
     "height": 153
    },
    "colab_type": "code",
    "id": "HVvx5c6BeKWm",
    "outputId": "baca2a32-fd2e-4fad-fe16-01d8a738705a"
   },
   "outputs": [
    {
     "data": {
      "text/plain": [
       "array([3, 2, 3, 3, 3, 2, 0, 1, 0, 0, 3, 0, 0, 3, 0, 0, 2, 0, 0, 1, 1, 3,\n",
       "       1, 1, 1, 1, 1, 2, 2, 0, 2, 3, 2, 2, 0, 0, 1, 0, 1, 0, 2, 2, 3, 1,\n",
       "       1, 0, 1, 3, 1, 2, 3, 1, 0, 0, 1, 0, 1, 1, 0, 0, 1, 3, 0, 1, 0, 1,\n",
       "       3, 2, 1, 1, 2, 0, 1, 0, 2, 1, 2, 1, 2, 3, 0, 0, 1, 3, 1, 3, 3, 0,\n",
       "       1, 3, 3, 1, 3, 3, 1, 0, 2, 0, 1, 1, 3, 3, 1, 1, 0, 0, 1, 3, 3, 3,\n",
       "       1, 1, 3, 2, 1, 2, 2, 2, 1, 1, 2, 2, 1, 2, 3, 3, 2, 0, 3, 2, 0, 0,\n",
       "       0, 3, 0, 3, 0, 0, 1, 3, 3, 1, 0, 0, 0, 1, 3, 3, 3, 3, 2, 1, 2, 0,\n",
       "       0, 3, 2, 2, 1, 1], dtype=int64)"
      ]
     },
     "execution_count": 18,
     "metadata": {},
     "output_type": "execute_result"
    }
   ],
   "source": [
    "testy = np.array([np.where(r==1)[0][0] for r in test_label_batch])\n",
    "testy"
   ]
  },
  {
   "cell_type": "code",
   "execution_count": 19,
   "metadata": {
    "colab": {
     "base_uri": "https://localhost:8080/",
     "height": 561
    },
    "colab_type": "code",
    "id": "6hE6YLtdeL4R",
    "outputId": "c4a96a30-6f20-4d8b-80de-2cdc921f54cf"
   },
   "outputs": [
    {
     "data": {
      "text/plain": [
       "array(['Very_Mild_Demented', 'Non_Demented', 'Very_Mild_Demented',\n",
       "       'Very_Mild_Demented', 'Very_Mild_Demented', 'Non_Demented',\n",
       "       'Mild_Demented', 'Moderate_Demented', 'Mild_Demented',\n",
       "       'Mild_Demented', 'Very_Mild_Demented', 'Mild_Demented',\n",
       "       'Mild_Demented', 'Very_Mild_Demented', 'Mild_Demented',\n",
       "       'Mild_Demented', 'Non_Demented', 'Mild_Demented', 'Mild_Demented',\n",
       "       'Moderate_Demented', 'Moderate_Demented', 'Very_Mild_Demented',\n",
       "       'Moderate_Demented', 'Moderate_Demented', 'Moderate_Demented',\n",
       "       'Moderate_Demented', 'Moderate_Demented', 'Non_Demented',\n",
       "       'Non_Demented', 'Mild_Demented', 'Non_Demented',\n",
       "       'Very_Mild_Demented', 'Non_Demented', 'Non_Demented',\n",
       "       'Mild_Demented', 'Mild_Demented', 'Moderate_Demented',\n",
       "       'Mild_Demented', 'Moderate_Demented', 'Mild_Demented',\n",
       "       'Non_Demented', 'Non_Demented', 'Very_Mild_Demented',\n",
       "       'Moderate_Demented', 'Moderate_Demented', 'Mild_Demented',\n",
       "       'Moderate_Demented', 'Very_Mild_Demented', 'Moderate_Demented',\n",
       "       'Non_Demented', 'Very_Mild_Demented', 'Moderate_Demented',\n",
       "       'Mild_Demented', 'Mild_Demented', 'Moderate_Demented',\n",
       "       'Mild_Demented', 'Moderate_Demented', 'Moderate_Demented',\n",
       "       'Mild_Demented', 'Mild_Demented', 'Moderate_Demented',\n",
       "       'Very_Mild_Demented', 'Mild_Demented', 'Moderate_Demented',\n",
       "       'Mild_Demented', 'Moderate_Demented', 'Very_Mild_Demented',\n",
       "       'Non_Demented', 'Moderate_Demented', 'Moderate_Demented',\n",
       "       'Non_Demented', 'Mild_Demented', 'Moderate_Demented',\n",
       "       'Mild_Demented', 'Non_Demented', 'Moderate_Demented',\n",
       "       'Non_Demented', 'Moderate_Demented', 'Non_Demented',\n",
       "       'Very_Mild_Demented', 'Mild_Demented', 'Mild_Demented',\n",
       "       'Moderate_Demented', 'Very_Mild_Demented', 'Moderate_Demented',\n",
       "       'Very_Mild_Demented', 'Very_Mild_Demented', 'Mild_Demented',\n",
       "       'Moderate_Demented', 'Very_Mild_Demented', 'Very_Mild_Demented',\n",
       "       'Moderate_Demented', 'Very_Mild_Demented', 'Very_Mild_Demented',\n",
       "       'Moderate_Demented', 'Mild_Demented', 'Non_Demented',\n",
       "       'Mild_Demented', 'Moderate_Demented', 'Moderate_Demented',\n",
       "       'Very_Mild_Demented', 'Very_Mild_Demented', 'Moderate_Demented',\n",
       "       'Moderate_Demented', 'Mild_Demented', 'Mild_Demented',\n",
       "       'Moderate_Demented', 'Very_Mild_Demented', 'Very_Mild_Demented',\n",
       "       'Very_Mild_Demented', 'Moderate_Demented', 'Moderate_Demented',\n",
       "       'Very_Mild_Demented', 'Non_Demented', 'Moderate_Demented',\n",
       "       'Non_Demented', 'Non_Demented', 'Non_Demented',\n",
       "       'Moderate_Demented', 'Moderate_Demented', 'Non_Demented',\n",
       "       'Non_Demented', 'Moderate_Demented', 'Non_Demented',\n",
       "       'Very_Mild_Demented', 'Very_Mild_Demented', 'Non_Demented',\n",
       "       'Mild_Demented', 'Very_Mild_Demented', 'Non_Demented',\n",
       "       'Mild_Demented', 'Mild_Demented', 'Mild_Demented',\n",
       "       'Very_Mild_Demented', 'Mild_Demented', 'Very_Mild_Demented',\n",
       "       'Mild_Demented', 'Mild_Demented', 'Moderate_Demented',\n",
       "       'Very_Mild_Demented', 'Very_Mild_Demented', 'Moderate_Demented',\n",
       "       'Mild_Demented', 'Mild_Demented', 'Mild_Demented',\n",
       "       'Moderate_Demented', 'Very_Mild_Demented', 'Very_Mild_Demented',\n",
       "       'Very_Mild_Demented', 'Very_Mild_Demented', 'Non_Demented',\n",
       "       'Moderate_Demented', 'Non_Demented', 'Mild_Demented',\n",
       "       'Mild_Demented', 'Very_Mild_Demented', 'Non_Demented',\n",
       "       'Non_Demented', 'Moderate_Demented', 'Moderate_Demented'],\n",
       "      dtype='<U18')"
      ]
     },
     "execution_count": 19,
     "metadata": {},
     "output_type": "execute_result"
    }
   ],
   "source": [
    "test_real = np.array(list(list(labels.keys())[list(labels.values()).index(i)] for i in testy))\n",
    "test_real"
   ]
  },
  {
   "cell_type": "code",
   "execution_count": 20,
   "metadata": {
    "colab": {
     "base_uri": "https://localhost:8080/",
     "height": 85
    },
    "colab_type": "code",
    "id": "RsmXDcd0eNSo",
    "outputId": "3484aa8c-522f-4901-e9b7-bc2fcde6f2ea"
   },
   "outputs": [
    {
     "name": "stdout",
     "output_type": "stream",
     "text": [
      "Accuracy: 0.937500\n",
      "Precision: 0.938699\n",
      "Recall: 0.920513\n",
      "F1 score: 0.925061\n"
     ]
    }
   ],
   "source": [
    "# accuracy: (tp + tn) / (p + n)\n",
    "accuracy = accuracy_score(testy, yhat_classes)\n",
    "print('Accuracy: %f' % accuracy)\n",
    "# precision tp / (tp + fp)\n",
    "precision = precision_score(testy, yhat_classes,average='macro')\n",
    "print('Precision: %f' % precision)\n",
    "# recall: tp / (tp + fn)\n",
    "recall = recall_score(testy, yhat_classes,average='macro')\n",
    "print('Recall: %f' % recall)\n",
    "# f1: 2 tp / (2 tp + fp + fn)\n",
    "f1 = f1_score(testy, yhat_classes,average='macro')\n",
    "print('F1 score: %f' % f1)"
   ]
  },
  {
   "cell_type": "code",
   "execution_count": null,
   "metadata": {},
   "outputs": [],
   "source": []
  },
  {
   "cell_type": "code",
   "execution_count": null,
   "metadata": {},
   "outputs": [],
   "source": []
  },
  {
   "cell_type": "code",
   "execution_count": 21,
   "metadata": {},
   "outputs": [
    {
     "ename": "SyntaxError",
     "evalue": "unexpected character after line continuation character (3806880944.py, line 1)",
     "output_type": "error",
     "traceback": [
      "\u001b[1;36m  Cell \u001b[1;32mIn[21], line 1\u001b[1;36m\u001b[0m\n\u001b[1;33m    D:\\brain alzheimer detection\\Dataset\u001b[0m\n\u001b[1;37m       ^\u001b[0m\n\u001b[1;31mSyntaxError\u001b[0m\u001b[1;31m:\u001b[0m unexpected character after line continuation character\n"
     ]
    }
   ],
   "source": []
  },
  {
   "cell_type": "code",
   "execution_count": 22,
   "metadata": {},
   "outputs": [
    {
     "ename": "SyntaxError",
     "evalue": "unexpected character after line continuation character (282745601.py, line 1)",
     "output_type": "error",
     "traceback": [
      "\u001b[1;36m  Cell \u001b[1;32mIn[22], line 1\u001b[1;36m\u001b[0m\n\u001b[1;33m    D:\\brain alzheimer detection\\Dataset\\Mild_Demented\\mild\u001b[0m\n\u001b[1;37m       ^\u001b[0m\n\u001b[1;31mSyntaxError\u001b[0m\u001b[1;31m:\u001b[0m unexpected character after line continuation character\n"
     ]
    }
   ],
   "source": []
  },
  {
   "cell_type": "code",
   "execution_count": 23,
   "metadata": {},
   "outputs": [
    {
     "ename": "SyntaxError",
     "evalue": "unexpected character after line continuation character (2893826588.py, line 1)",
     "output_type": "error",
     "traceback": [
      "\u001b[1;36m  Cell \u001b[1;32mIn[23], line 1\u001b[1;36m\u001b[0m\n\u001b[1;33m    D:brain alzheimer detection\\Dataset\\Mild_Demented\\mild\u001b[0m\n\u001b[1;37m                                ^\u001b[0m\n\u001b[1;31mSyntaxError\u001b[0m\u001b[1;31m:\u001b[0m unexpected character after line continuation character\n"
     ]
    }
   ],
   "source": []
  },
  {
   "cell_type": "code",
   "execution_count": null,
   "metadata": {},
   "outputs": [],
   "source": []
  }
 ],
 "metadata": {
  "accelerator": "GPU",
  "colab": {
   "collapsed_sections": [],
   "name": "brain_tumor_predicition.ipynb",
   "provenance": []
  },
  "kernelspec": {
   "display_name": "Python 3 (ipykernel)",
   "language": "python",
   "name": "python3"
  },
  "language_info": {
   "codemirror_mode": {
    "name": "ipython",
    "version": 3
   },
   "file_extension": ".py",
   "mimetype": "text/x-python",
   "name": "python",
   "nbconvert_exporter": "python",
   "pygments_lexer": "ipython3",
   "version": "3.10.9"
  }
 },
 "nbformat": 4,
 "nbformat_minor": 4
}
