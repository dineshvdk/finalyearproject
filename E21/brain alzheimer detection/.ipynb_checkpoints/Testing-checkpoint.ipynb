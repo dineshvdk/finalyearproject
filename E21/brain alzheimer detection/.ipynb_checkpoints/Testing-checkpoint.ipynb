{
 "cells": [
  {
   "cell_type": "code",
   "execution_count": 1,
   "metadata": {
    "colab": {
     "base_uri": "https://localhost:8080/",
     "height": 34
    },
    "colab_type": "code",
    "id": "KFF2ufZqbC9_",
    "outputId": "3472fd8b-0a6e-4c69-ea25-f7a494f3c9e5"
   },
   "outputs": [],
   "source": [
    "import tensorflow as tf\n",
    "import os\n",
    "import numpy as np\n",
    "from tensorflow import keras\n",
    "from tensorflow.keras.preprocessing.image import ImageDataGenerator"
   ]
  },
  {
   "cell_type": "code",
   "execution_count": 2,
   "metadata": {
    "colab": {},
    "colab_type": "code",
    "id": "eV0PtKp6dkfw"
   },
   "outputs": [],
   "source": [
    "#load trained model\n",
    "model = tf.keras.models.load_model('models/brain_model_finetune.h5')"
   ]
  },
  {
   "cell_type": "code",
   "execution_count": 3,
   "metadata": {
    "colab": {
     "base_uri": "https://localhost:8080/",
     "height": 323
    },
    "colab_type": "code",
    "id": "diGeUh3Kdq9y",
    "outputId": "14e55558-4f17-4dc5-9110-aa8d825c4e93"
   },
   "outputs": [
    {
     "name": "stdout",
     "output_type": "stream",
     "text": [
      "Model: \"sequential\"\n",
      "_________________________________________________________________\n",
      "Layer (type)                 Output Shape              Param #   \n",
      "=================================================================\n",
      "vgg16 (Functional)           (None, 7, 7, 512)         14714688  \n",
      "_________________________________________________________________\n",
      "conv2d (Conv2D)              (None, 5, 5, 32)          147488    \n",
      "_________________________________________________________________\n",
      "dropout (Dropout)            (None, 5, 5, 32)          0         \n",
      "_________________________________________________________________\n",
      "global_average_pooling2d (Gl (None, 32)                0         \n",
      "_________________________________________________________________\n",
      "dense (Dense)                (None, 4)                 132       \n",
      "=================================================================\n",
      "Total params: 14,862,308\n",
      "Trainable params: 7,227,044\n",
      "Non-trainable params: 7,635,264\n",
      "_________________________________________________________________\n"
     ]
    }
   ],
   "source": [
    "model.summary()"
   ]
  },
  {
   "cell_type": "code",
   "execution_count": 4,
   "metadata": {
    "colab": {},
    "colab_type": "code",
    "id": "S_lUjQHBdtCw"
   },
   "outputs": [],
   "source": [
    "base_dir = \"input\"\n",
    "test_dir = os.path.join(base_dir, 'Testing')"
   ]
  },
  {
   "cell_type": "code",
   "execution_count": 5,
   "metadata": {
    "colab": {},
    "colab_type": "code",
    "id": "n6vS39jhdwH4"
   },
   "outputs": [],
   "source": [
    "(IMG_HEIGHT,IMG_WIDTH) = (224,224)\n",
    "batch_size = 160"
   ]
  },
  {
   "cell_type": "code",
   "execution_count": 6,
   "metadata": {
    "colab": {},
    "colab_type": "code",
    "id": "dNxfFMwld0t_"
   },
   "outputs": [],
   "source": [
    "#testing data as batches of tensor image data\n",
    "test_image_generator = ImageDataGenerator(rescale=1./255)"
   ]
  },
  {
   "cell_type": "code",
   "execution_count": 7,
   "metadata": {
    "colab": {
     "base_uri": "https://localhost:8080/",
     "height": 34
    },
    "colab_type": "code",
    "id": "0TJqO223d3CX",
    "outputId": "f462c80c-2528-43d6-d1a6-b17b5e4fa5dd"
   },
   "outputs": [
    {
     "name": "stdout",
     "output_type": "stream",
     "text": [
      "Found 374 images belonging to 4 classes.\n"
     ]
    }
   ],
   "source": [
    "test_data_generator = test_image_generator.flow_from_directory(\n",
    "    directory = test_dir,\n",
    "    target_size = (IMG_HEIGHT,IMG_WIDTH),\n",
    "    batch_size = batch_size,\n",
    "    class_mode = \"categorical\"\n",
    ")"
   ]
  },
  {
   "cell_type": "code",
   "execution_count": 8,
   "metadata": {
    "colab": {
     "base_uri": "https://localhost:8080/",
     "height": 34
    },
    "colab_type": "code",
    "id": "JQocGw9ed4m_",
    "outputId": "f5120730-f4e4-4036-ab09-8e9577fcb2a9"
   },
   "outputs": [
    {
     "name": "stdout",
     "output_type": "stream",
     "text": [
      "{'glioma_tumor': 0, 'meningioma_tumor': 1, 'no_tumor': 2, 'pituitary_tumor': 3}\n"
     ]
    }
   ],
   "source": [
    "labels = test_data_generator.class_indices\n",
    "print(labels)"
   ]
  },
  {
   "cell_type": "code",
   "execution_count": 9,
   "metadata": {
    "colab": {
     "base_uri": "https://localhost:8080/",
     "height": 34
    },
    "colab_type": "code",
    "id": "J_rzLq--d6Xo",
    "outputId": "ed14c525-1997-4a82-8fe5-9f5d1af8d2ed"
   },
   "outputs": [
    {
     "name": "stdout",
     "output_type": "stream",
     "text": [
      "['Glioma_Tumor' 'Meningioma_Tumor' 'No_Tumor' 'Pituitary_Tumor']\n"
     ]
    }
   ],
   "source": [
    "# Learn about dataset labels\n",
    "\n",
    "dataset_labels = sorted(test_data_generator.class_indices.items())\n",
    "dataset_labels = np.array([key.title() for key, value in dataset_labels])\n",
    "print(dataset_labels)"
   ]
  },
  {
   "cell_type": "code",
   "execution_count": 10,
   "metadata": {
    "colab": {
     "base_uri": "https://localhost:8080/",
     "height": 34
    },
    "colab_type": "code",
    "id": "nfStTixod8bG",
    "outputId": "4be95f1a-a71c-4599-c24c-362529664a27"
   },
   "outputs": [
    {
     "name": "stdout",
     "output_type": "stream",
     "text": [
      "test batch shape: (160, 224, 224, 3)\n"
     ]
    }
   ],
   "source": [
    "#check the shape\n",
    "test_image_batch, test_label_batch = next(iter(test_data_generator))\n",
    "true_label_ids = np.argmax(test_label_batch, axis=-1)\n",
    "\n",
    "print(\"test batch shape:\", test_image_batch.shape)"
   ]
  },
  {
   "cell_type": "code",
   "execution_count": 11,
   "metadata": {
    "colab": {
     "base_uri": "https://localhost:8080/",
     "height": 34
    },
    "colab_type": "code",
    "id": "OUmBof2t5BeZ",
    "outputId": "eca957bf-3fbc-4ac3-dfa9-ce11979ab762"
   },
   "outputs": [
    {
     "data": {
      "text/plain": [
       "(224, 224, 3)"
      ]
     },
     "execution_count": 11,
     "metadata": {},
     "output_type": "execute_result"
    }
   ],
   "source": [
    "test_image_batch[0].shape"
   ]
  },
  {
   "cell_type": "code",
   "execution_count": null,
   "metadata": {
    "colab": {
     "base_uri": "https://localhost:8080/",
     "height": 1000
    },
    "colab_type": "code",
    "id": "Otneq6N0d-Ea",
    "outputId": "da4f5704-4aab-406d-b980-1d9b88ebe3ef"
   },
   "outputs": [],
   "source": [
    "# predict probabilities for test set\n",
    "yhat_probs = model.predict(test_image_batch)"
   ]
  },
  {
   "cell_type": "code",
   "execution_count": 36,
   "metadata": {},
   "outputs": [
    {
     "data": {
      "text/plain": [
       "array([9.87337947e-01, 1.26562575e-02, 5.72238514e-06, 1.21622046e-10],\n",
       "      dtype=float32)"
      ]
     },
     "execution_count": 36,
     "metadata": {},
     "output_type": "execute_result"
    }
   ],
   "source": [
    "yhat_probs[0]"
   ]
  },
  {
   "cell_type": "code",
   "execution_count": 37,
   "metadata": {},
   "outputs": [
    {
     "data": {
      "text/plain": [
       "[0,\n",
       " 0,\n",
       " 1,\n",
       " 2,\n",
       " 3,\n",
       " 0,\n",
       " 1,\n",
       " 2,\n",
       " 3,\n",
       " 2,\n",
       " 3,\n",
       " 3,\n",
       " 0,\n",
       " 3,\n",
       " 0,\n",
       " 1,\n",
       " 2,\n",
       " 2,\n",
       " 0,\n",
       " 2,\n",
       " 2,\n",
       " 2,\n",
       " 1,\n",
       " 0,\n",
       " 2,\n",
       " 3,\n",
       " 1,\n",
       " 1,\n",
       " 1,\n",
       " 1,\n",
       " 3,\n",
       " 2,\n",
       " 2,\n",
       " 1,\n",
       " 0,\n",
       " 3,\n",
       " 0,\n",
       " 3,\n",
       " 0,\n",
       " 2,\n",
       " 0,\n",
       " 0,\n",
       " 0,\n",
       " 1,\n",
       " 1,\n",
       " 3,\n",
       " 0,\n",
       " 2,\n",
       " 1,\n",
       " 1,\n",
       " 3,\n",
       " 1,\n",
       " 2,\n",
       " 1,\n",
       " 1,\n",
       " 2,\n",
       " 1,\n",
       " 2,\n",
       " 1,\n",
       " 2,\n",
       " 1,\n",
       " 1,\n",
       " 1,\n",
       " 1,\n",
       " 1,\n",
       " 1,\n",
       " 2,\n",
       " 1,\n",
       " 1,\n",
       " 1,\n",
       " 3,\n",
       " 2,\n",
       " 1,\n",
       " 0,\n",
       " 1,\n",
       " 1,\n",
       " 2,\n",
       " 2,\n",
       " 1,\n",
       " 3,\n",
       " 0,\n",
       " 1,\n",
       " 3,\n",
       " 0,\n",
       " 2,\n",
       " 2,\n",
       " 3,\n",
       " 3,\n",
       " 1,\n",
       " 2,\n",
       " 0,\n",
       " 3,\n",
       " 2,\n",
       " 2,\n",
       " 2,\n",
       " 0,\n",
       " 2,\n",
       " 1,\n",
       " 1,\n",
       " 2,\n",
       " 2,\n",
       " 1,\n",
       " 2,\n",
       " 2,\n",
       " 1,\n",
       " 1,\n",
       " 2,\n",
       " 2,\n",
       " 2,\n",
       " 1,\n",
       " 2,\n",
       " 3,\n",
       " 1,\n",
       " 1,\n",
       " 2,\n",
       " 1,\n",
       " 2,\n",
       " 2,\n",
       " 2,\n",
       " 1,\n",
       " 3,\n",
       " 0,\n",
       " 1,\n",
       " 1,\n",
       " 1,\n",
       " 3,\n",
       " 3,\n",
       " 1,\n",
       " 3,\n",
       " 3,\n",
       " 2,\n",
       " 3,\n",
       " 1,\n",
       " 2,\n",
       " 0,\n",
       " 1,\n",
       " 0,\n",
       " 1,\n",
       " 3,\n",
       " 0,\n",
       " 0,\n",
       " 1,\n",
       " 0,\n",
       " 2,\n",
       " 3,\n",
       " 2,\n",
       " 2,\n",
       " 1,\n",
       " 2,\n",
       " 3,\n",
       " 0,\n",
       " 0,\n",
       " 2,\n",
       " 2,\n",
       " 2,\n",
       " 0,\n",
       " 2,\n",
       " 0,\n",
       " 1,\n",
       " 1]"
      ]
     },
     "execution_count": 37,
     "metadata": {},
     "output_type": "execute_result"
    }
   ],
   "source": [
    "yhat_classes=[]\n",
    "for i in yhat_probs:\n",
    "    data=i.tolist()\n",
    "   \n",
    "    maxvalue=data.index(max(data))\n",
    "   \n",
    "    yhat_classes.append(maxvalue)\n",
    "yhat_classes"
   ]
  },
  {
   "cell_type": "code",
   "execution_count": 38,
   "metadata": {},
   "outputs": [
    {
     "data": {
      "text/plain": [
       "array([[9.87337947e-01, 1.26562575e-02, 5.72238514e-06, 1.21622046e-10],\n",
       "       [9.84351039e-01, 1.55198639e-02, 1.29413384e-05, 1.16147712e-04],\n",
       "       [9.10844828e-05, 9.93328691e-01, 3.30898515e-03, 3.27125937e-03],\n",
       "       [3.31013189e-10, 3.82940954e-04, 9.99616981e-01, 5.40049572e-16],\n",
       "       [4.23837898e-09, 1.68520603e-02, 1.74702636e-05, 9.83130455e-01],\n",
       "       [9.99997973e-01, 1.96240785e-06, 3.78874362e-12, 1.95066185e-08],\n",
       "       [1.06752641e-03, 9.90303576e-01, 8.38978216e-03, 2.39121640e-04],\n",
       "       [5.35777787e-08, 2.74764560e-03, 9.82023537e-01, 1.52288694e-02],\n",
       "       [5.65343661e-10, 2.05433508e-03, 2.32184484e-05, 9.97922480e-01],\n",
       "       [7.49794935e-06, 2.02602856e-02, 9.79726672e-01, 5.51432959e-06],\n",
       "       [1.64279609e-05, 4.43597324e-03, 2.02025367e-05, 9.95527327e-01],\n",
       "       [6.91785726e-06, 6.43282803e-03, 1.28042346e-04, 9.93432164e-01],\n",
       "       [9.85406756e-01, 1.45810237e-02, 1.22110614e-05, 3.36428592e-08],\n",
       "       [5.65343661e-10, 2.05433508e-03, 2.32184484e-05, 9.97922480e-01],\n",
       "       [9.76514816e-01, 2.34844349e-02, 6.76446120e-07, 2.54667274e-08],\n",
       "       [2.64853497e-05, 9.98508275e-01, 1.33820600e-03, 1.26988147e-04],\n",
       "       [7.01585350e-08, 3.74716683e-03, 9.81975019e-01, 1.42776808e-02],\n",
       "       [1.00876940e-02, 1.48425866e-02, 9.75069761e-01, 8.49115711e-09],\n",
       "       [9.99606550e-01, 3.93423659e-04, 1.80513382e-11, 7.73637751e-12],\n",
       "       [1.18226730e-04, 1.38954842e-03, 9.98490930e-01, 1.26671091e-06],\n",
       "       [5.61346951e-07, 8.07380828e-04, 9.99192059e-01, 3.66063679e-10],\n",
       "       [3.07542978e-05, 2.64578004e-04, 9.99623179e-01, 8.14218438e-05],\n",
       "       [2.88778283e-05, 9.95683432e-01, 3.33897234e-03, 9.48772067e-04],\n",
       "       [9.98798609e-01, 1.18126161e-03, 9.98003907e-06, 1.01011865e-05],\n",
       "       [1.68394703e-08, 7.31672917e-04, 9.99265611e-01, 2.75329103e-06],\n",
       "       [6.69748415e-12, 3.07501206e-04, 7.39172833e-07, 9.99691844e-01],\n",
       "       [3.11457334e-05, 9.99938607e-01, 2.96170983e-05, 6.38875747e-07],\n",
       "       [1.02116726e-03, 9.94684041e-01, 4.29060590e-03, 4.18994478e-06],\n",
       "       [4.86658701e-06, 9.91541982e-01, 1.80695410e-04, 8.27244483e-03],\n",
       "       [1.33879140e-11, 9.99998093e-01, 1.85389155e-07, 1.69020313e-06],\n",
       "       [7.16025212e-08, 3.58057069e-03, 8.66824485e-06, 9.96410668e-01],\n",
       "       [7.77245587e-05, 7.53670745e-03, 9.92385507e-01, 1.44830867e-08],\n",
       "       [2.37837713e-03, 1.02375047e-02, 9.87384081e-01, 5.90387508e-08],\n",
       "       [3.14985737e-02, 9.19095218e-01, 4.29205783e-02, 6.48554368e-03],\n",
       "       [9.99419332e-01, 5.80677297e-04, 2.40516163e-09, 8.06392231e-10],\n",
       "       [7.16025212e-08, 3.58057069e-03, 8.66823666e-06, 9.96410668e-01],\n",
       "       [9.99953866e-01, 4.55213521e-05, 6.12749545e-07, 2.62815898e-11],\n",
       "       [1.08887104e-06, 4.02425416e-03, 3.10559903e-06, 9.95971620e-01],\n",
       "       [9.99991775e-01, 8.26548512e-06, 3.37475425e-09, 1.07597371e-08],\n",
       "       [4.49414347e-06, 1.25256611e-03, 9.98742878e-01, 5.13614429e-10],\n",
       "       [9.99498248e-01, 5.01781818e-04, 1.23988625e-10, 3.55930563e-11],\n",
       "       [9.81222093e-01, 1.42051373e-02, 2.62735295e-03, 1.94536999e-03],\n",
       "       [9.99995112e-01, 4.89845706e-06, 2.39502002e-10, 3.85019625e-08],\n",
       "       [4.80034714e-07, 9.99895573e-01, 5.64740503e-07, 1.03310645e-04],\n",
       "       [4.63755941e-06, 9.99958158e-01, 1.35594564e-05, 2.35554235e-05],\n",
       "       [2.39047586e-06, 2.20617093e-03, 3.35207943e-07, 9.97791052e-01],\n",
       "       [9.99959707e-01, 4.03306840e-05, 4.50353745e-08, 7.22855864e-09],\n",
       "       [1.25254694e-04, 2.21553273e-05, 9.99852538e-01, 3.07869321e-08],\n",
       "       [1.21826213e-06, 9.99430478e-01, 1.19424054e-10, 5.68299147e-04],\n",
       "       [1.25346694e-03, 9.98191416e-01, 5.02476003e-04, 5.26085132e-05],\n",
       "       [4.23837898e-09, 1.68520603e-02, 1.74702636e-05, 9.83130455e-01],\n",
       "       [2.38732483e-08, 9.97197509e-01, 7.42935459e-04, 2.05955305e-03],\n",
       "       [1.83765877e-07, 8.95616319e-03, 9.91043568e-01, 2.61162780e-09],\n",
       "       [1.30751829e-07, 9.82852280e-01, 1.70650929e-02, 8.24981762e-05],\n",
       "       [6.19116938e-03, 9.80245531e-01, 1.24822995e-02, 1.08104956e-03],\n",
       "       [3.24251505e-06, 3.45986395e-04, 9.99650836e-01, 9.71917963e-11],\n",
       "       [3.42635285e-05, 9.99964833e-01, 7.86438932e-07, 6.66491502e-08],\n",
       "       [8.77062776e-05, 4.75000998e-04, 9.99435961e-01, 1.30456965e-06],\n",
       "       [3.41163133e-03, 9.84836519e-01, 1.56933893e-05, 1.17361210e-02],\n",
       "       [1.56263355e-02, 1.71338243e-03, 9.82629538e-01, 3.07996706e-05],\n",
       "       [5.99890200e-07, 9.99917746e-01, 2.35526513e-05, 5.80269698e-05],\n",
       "       [1.69355143e-08, 9.95773852e-01, 1.36350252e-06, 4.22471343e-03],\n",
       "       [5.45874937e-04, 9.99328375e-01, 8.32362275e-05, 4.25274629e-05],\n",
       "       [6.00883610e-09, 9.99816835e-01, 1.82755583e-04, 4.24403652e-07],\n",
       "       [7.24419311e-04, 9.34869766e-01, 6.18725494e-02, 2.53322534e-03],\n",
       "       [1.13868275e-07, 9.99399900e-01, 2.74167774e-04, 3.25821806e-04],\n",
       "       [8.99541119e-05, 2.42178179e-02, 9.75626349e-01, 6.59182988e-05],\n",
       "       [4.80936654e-03, 9.88323033e-01, 6.23386353e-03, 6.33752730e-04],\n",
       "       [1.27214417e-01, 7.49309540e-01, 1.52935245e-04, 1.23323172e-01],\n",
       "       [3.49608298e-12, 9.99982238e-01, 1.10354858e-06, 1.67066773e-05],\n",
       "       [1.91754676e-04, 1.08148204e-02, 1.72211992e-06, 9.88991737e-01],\n",
       "       [8.77062776e-05, 4.75000998e-04, 9.99435961e-01, 1.30456965e-06],\n",
       "       [7.36053579e-11, 9.97151315e-01, 5.89106407e-04, 2.25956482e-03],\n",
       "       [9.72013056e-01, 2.78846640e-02, 1.62954635e-07, 1.02133396e-04],\n",
       "       [6.43660096e-05, 9.99019027e-01, 9.60516263e-05, 8.20582965e-04],\n",
       "       [7.04141392e-04, 9.85638916e-01, 6.35276642e-03, 7.30420789e-03],\n",
       "       [9.92061810e-09, 1.18633988e-03, 9.98813629e-01, 1.59223520e-11],\n",
       "       [3.29223782e-04, 2.30466155e-03, 9.97340143e-01, 2.60048655e-05],\n",
       "       [9.78671131e-04, 9.99021292e-01, 2.47268570e-08, 2.32118147e-08],\n",
       "       [9.91189081e-05, 1.74824934e-04, 3.94217011e-07, 9.99725640e-01],\n",
       "       [9.98726428e-01, 4.96238004e-04, 6.37154790e-06, 7.70911050e-04],\n",
       "       [4.63169181e-06, 9.98039782e-01, 1.28761152e-04, 1.82684953e-03],\n",
       "       [9.91189081e-05, 1.74824934e-04, 3.94217011e-07, 9.99725640e-01],\n",
       "       [9.96665657e-01, 3.33415437e-03, 1.16509490e-07, 7.67320252e-09],\n",
       "       [3.85331153e-03, 2.59619486e-03, 9.93550420e-01, 5.25411110e-08],\n",
       "       [2.49140498e-07, 3.08496580e-02, 8.59531164e-01, 1.09618962e-01],\n",
       "       [1.91754676e-04, 1.08148204e-02, 1.72211992e-06, 9.88991737e-01],\n",
       "       [5.66384074e-07, 2.38397392e-03, 5.73367719e-03, 9.91881788e-01],\n",
       "       [3.40018886e-07, 9.98074889e-01, 1.83361385e-03, 9.10815506e-05],\n",
       "       [4.82869893e-07, 4.86470833e-02, 6.51284456e-01, 3.00067931e-01],\n",
       "       [9.96630132e-01, 3.36991507e-03, 2.44195189e-08, 9.20224286e-10],\n",
       "       [3.13198023e-09, 5.62959816e-04, 1.30887020e-05, 9.99423981e-01],\n",
       "       [6.45623950e-05, 1.77883275e-03, 9.98156488e-01, 5.81673554e-08],\n",
       "       [1.66071288e-03, 2.52925698e-03, 9.95708227e-01, 1.01811987e-04],\n",
       "       [8.65448601e-05, 1.01003167e-03, 9.98653531e-01, 2.49880482e-04],\n",
       "       [9.98958945e-01, 1.04101794e-03, 5.37622702e-09, 1.02086262e-09],\n",
       "       [1.32306122e-05, 9.00941622e-03, 9.90494967e-01, 4.82420990e-04],\n",
       "       [1.24974605e-02, 9.86934900e-01, 5.66001981e-04, 1.60729849e-06],\n",
       "       [2.12121853e-09, 9.98563111e-01, 1.39667536e-03, 4.02656406e-05],\n",
       "       [3.24251505e-06, 3.45986395e-04, 9.99650836e-01, 9.71917963e-11],\n",
       "       [8.24280735e-03, 1.99999660e-03, 9.89749253e-01, 7.93393792e-06],\n",
       "       [2.36883242e-08, 9.99436796e-01, 5.62347006e-04, 8.05483694e-07],\n",
       "       [7.90145259e-06, 3.54384720e-05, 9.99956727e-01, 2.09399750e-12],\n",
       "       [5.08948723e-08, 1.03939765e-05, 9.99989629e-01, 7.83662787e-11],\n",
       "       [2.10936761e-07, 9.98992980e-01, 6.45174878e-04, 3.61707585e-04],\n",
       "       [1.88883114e-08, 9.99922514e-01, 1.41538521e-05, 6.33493692e-05],\n",
       "       [4.55384225e-06, 1.13129267e-03, 9.98864174e-01, 1.32091116e-09],\n",
       "       [7.90145259e-06, 3.54384720e-05, 9.99956727e-01, 2.09399750e-12],\n",
       "       [1.88808883e-06, 1.11948070e-03, 9.98878658e-01, 2.27133199e-13],\n",
       "       [1.28256768e-04, 9.94172990e-01, 5.62304771e-03, 7.57590897e-05],\n",
       "       [7.01585350e-08, 3.74716683e-03, 9.81975019e-01, 1.42776808e-02],\n",
       "       [6.69748415e-12, 3.07501206e-04, 7.39172833e-07, 9.99691844e-01],\n",
       "       [1.05703026e-02, 9.81308520e-01, 2.47788243e-03, 5.64322853e-03],\n",
       "       [4.25803184e-04, 9.98369515e-01, 1.08521420e-03, 1.19467302e-04],\n",
       "       [2.49140498e-07, 3.08496580e-02, 8.59531164e-01, 1.09618962e-01],\n",
       "       [2.83595614e-06, 9.95179296e-01, 1.46248247e-04, 4.67156526e-03],\n",
       "       [1.60883923e-04, 6.63099019e-03, 9.92816687e-01, 3.91456822e-04],\n",
       "       [1.92557664e-10, 5.38019603e-03, 9.94619608e-01, 1.45050024e-07],\n",
       "       [3.26296373e-04, 2.14285264e-03, 9.97524202e-01, 6.62685306e-06],\n",
       "       [2.74811320e-08, 9.99261200e-01, 7.38458533e-04, 3.97139445e-07],\n",
       "       [1.08887104e-06, 4.02425416e-03, 3.10559903e-06, 9.95971620e-01],\n",
       "       [9.96378362e-01, 3.62159079e-03, 5.93897642e-09, 3.05935899e-08],\n",
       "       [4.73562337e-04, 9.92843270e-01, 3.29976110e-03, 3.38340667e-03],\n",
       "       [1.66704762e-03, 9.97018695e-01, 7.66422488e-07, 1.31353678e-03],\n",
       "       [1.82834654e-08, 9.99978662e-01, 1.68791776e-05, 4.36601886e-06],\n",
       "       [9.91189081e-05, 1.74824934e-04, 3.94217011e-07, 9.99725640e-01],\n",
       "       [5.42100205e-14, 2.35944335e-05, 2.31061194e-11, 9.99976397e-01],\n",
       "       [4.26698125e-06, 9.90857184e-01, 9.13631171e-03, 2.27043802e-06],\n",
       "       [7.16025212e-08, 3.58057069e-03, 8.66823666e-06, 9.96410668e-01],\n",
       "       [9.12166215e-05, 1.65963203e-01, 8.17598120e-05, 8.33863854e-01],\n",
       "       [3.79661591e-09, 9.28561130e-05, 9.99907136e-01, 2.16378673e-13],\n",
       "       [3.13198023e-09, 5.62959816e-04, 1.30887020e-05, 9.99423981e-01],\n",
       "       [2.31171917e-08, 9.99883652e-01, 1.15018083e-04, 1.35394589e-06],\n",
       "       [1.44975829e-07, 3.95552348e-03, 9.96043921e-01, 4.92248148e-07],\n",
       "       [9.97528613e-01, 2.46140384e-03, 9.76553474e-06, 2.05229256e-07],\n",
       "       [1.48134021e-08, 9.99739945e-01, 1.70707135e-05, 2.42958224e-04],\n",
       "       [9.47310865e-01, 5.05285449e-02, 1.02389499e-03, 1.13675289e-03],\n",
       "       [4.15294664e-15, 9.99997616e-01, 1.78367281e-06, 5.84576924e-07],\n",
       "       [4.23837898e-09, 1.68520603e-02, 1.74702636e-05, 9.83130455e-01],\n",
       "       [9.98336673e-01, 1.62570761e-03, 2.03010813e-06, 3.56218479e-05],\n",
       "       [9.99975085e-01, 2.49403893e-05, 1.67587662e-11, 2.46925369e-10],\n",
       "       [9.38367092e-12, 9.99902368e-01, 9.75784351e-05, 3.20603682e-10],\n",
       "       [9.99942899e-01, 5.71266028e-05, 4.40735252e-12, 2.62027171e-11],\n",
       "       [2.52244681e-05, 1.36709388e-03, 9.98607576e-01, 6.96515983e-08],\n",
       "       [4.79907249e-06, 8.72590672e-03, 1.09174359e-03, 9.90177572e-01],\n",
       "       [4.29257989e-06, 2.98550376e-03, 9.97009873e-01, 3.48298840e-07],\n",
       "       [8.50639950e-08, 1.30616752e-02, 9.86938119e-01, 8.07595555e-08],\n",
       "       [4.26872080e-04, 9.92398083e-01, 3.42983031e-03, 3.74526717e-03],\n",
       "       [7.87668541e-05, 6.49815192e-05, 9.99856234e-01, 2.22620677e-09],\n",
       "       [4.20756805e-07, 1.84914395e-01, 1.36154995e-06, 8.15083802e-01],\n",
       "       [9.93009806e-01, 6.99005183e-03, 1.23179461e-07, 5.74972958e-09],\n",
       "       [9.82132971e-01, 1.78496577e-02, 1.25115918e-09, 1.73348799e-05],\n",
       "       [3.31013189e-10, 3.82940954e-04, 9.99616981e-01, 5.40049572e-16],\n",
       "       [3.48071262e-05, 2.57276697e-04, 9.99707758e-01, 1.21906439e-07],\n",
       "       [1.95807115e-05, 1.34831006e-02, 9.86496985e-01, 2.79275866e-07],\n",
       "       [9.99753058e-01, 2.46912241e-04, 1.42929908e-08, 1.04345617e-08],\n",
       "       [3.48071262e-05, 2.57276697e-04, 9.99707758e-01, 1.21906439e-07],\n",
       "       [9.99920487e-01, 7.68108803e-05, 9.40812441e-08, 2.56487874e-06],\n",
       "       [2.82520523e-05, 9.95785773e-01, 2.57464999e-04, 3.92845133e-03],\n",
       "       [1.36908129e-05, 9.99053657e-01, 3.02862027e-05, 9.02382075e-04]],\n",
       "      dtype=float32)"
      ]
     },
     "execution_count": 38,
     "metadata": {},
     "output_type": "execute_result"
    }
   ],
   "source": [
    "yhat_probs"
   ]
  },
  {
   "cell_type": "code",
   "execution_count": 39,
   "metadata": {
    "colab": {
     "base_uri": "https://localhost:8080/",
     "height": 561
    },
    "colab_type": "code",
    "id": "U-7gcd9MeGnI",
    "outputId": "f03eba63-59d7-4914-c6ea-54ae8f218bd7"
   },
   "outputs": [
    {
     "data": {
      "text/plain": [
       "array(['glioma_tumor', 'glioma_tumor', 'meningioma_tumor', 'no_tumor',\n",
       "       'pituitary_tumor', 'glioma_tumor', 'meningioma_tumor', 'no_tumor',\n",
       "       'pituitary_tumor', 'no_tumor', 'pituitary_tumor',\n",
       "       'pituitary_tumor', 'glioma_tumor', 'pituitary_tumor',\n",
       "       'glioma_tumor', 'meningioma_tumor', 'no_tumor', 'no_tumor',\n",
       "       'glioma_tumor', 'no_tumor', 'no_tumor', 'no_tumor',\n",
       "       'meningioma_tumor', 'glioma_tumor', 'no_tumor', 'pituitary_tumor',\n",
       "       'meningioma_tumor', 'meningioma_tumor', 'meningioma_tumor',\n",
       "       'meningioma_tumor', 'pituitary_tumor', 'no_tumor', 'no_tumor',\n",
       "       'meningioma_tumor', 'glioma_tumor', 'pituitary_tumor',\n",
       "       'glioma_tumor', 'pituitary_tumor', 'glioma_tumor', 'no_tumor',\n",
       "       'glioma_tumor', 'glioma_tumor', 'glioma_tumor', 'meningioma_tumor',\n",
       "       'meningioma_tumor', 'pituitary_tumor', 'glioma_tumor', 'no_tumor',\n",
       "       'meningioma_tumor', 'meningioma_tumor', 'pituitary_tumor',\n",
       "       'meningioma_tumor', 'no_tumor', 'meningioma_tumor',\n",
       "       'meningioma_tumor', 'no_tumor', 'meningioma_tumor', 'no_tumor',\n",
       "       'meningioma_tumor', 'no_tumor', 'meningioma_tumor',\n",
       "       'meningioma_tumor', 'meningioma_tumor', 'meningioma_tumor',\n",
       "       'meningioma_tumor', 'meningioma_tumor', 'no_tumor',\n",
       "       'meningioma_tumor', 'meningioma_tumor', 'meningioma_tumor',\n",
       "       'pituitary_tumor', 'no_tumor', 'meningioma_tumor', 'glioma_tumor',\n",
       "       'meningioma_tumor', 'meningioma_tumor', 'no_tumor', 'no_tumor',\n",
       "       'meningioma_tumor', 'pituitary_tumor', 'glioma_tumor',\n",
       "       'meningioma_tumor', 'pituitary_tumor', 'glioma_tumor', 'no_tumor',\n",
       "       'no_tumor', 'pituitary_tumor', 'pituitary_tumor',\n",
       "       'meningioma_tumor', 'no_tumor', 'glioma_tumor', 'pituitary_tumor',\n",
       "       'no_tumor', 'no_tumor', 'no_tumor', 'glioma_tumor', 'no_tumor',\n",
       "       'meningioma_tumor', 'meningioma_tumor', 'no_tumor', 'no_tumor',\n",
       "       'meningioma_tumor', 'no_tumor', 'no_tumor', 'meningioma_tumor',\n",
       "       'meningioma_tumor', 'no_tumor', 'no_tumor', 'no_tumor',\n",
       "       'meningioma_tumor', 'no_tumor', 'pituitary_tumor',\n",
       "       'meningioma_tumor', 'meningioma_tumor', 'no_tumor',\n",
       "       'meningioma_tumor', 'no_tumor', 'no_tumor', 'no_tumor',\n",
       "       'meningioma_tumor', 'pituitary_tumor', 'glioma_tumor',\n",
       "       'meningioma_tumor', 'meningioma_tumor', 'meningioma_tumor',\n",
       "       'pituitary_tumor', 'pituitary_tumor', 'meningioma_tumor',\n",
       "       'pituitary_tumor', 'pituitary_tumor', 'no_tumor',\n",
       "       'pituitary_tumor', 'meningioma_tumor', 'no_tumor', 'glioma_tumor',\n",
       "       'meningioma_tumor', 'glioma_tumor', 'meningioma_tumor',\n",
       "       'pituitary_tumor', 'glioma_tumor', 'glioma_tumor',\n",
       "       'meningioma_tumor', 'glioma_tumor', 'no_tumor', 'pituitary_tumor',\n",
       "       'no_tumor', 'no_tumor', 'meningioma_tumor', 'no_tumor',\n",
       "       'pituitary_tumor', 'glioma_tumor', 'glioma_tumor', 'no_tumor',\n",
       "       'no_tumor', 'no_tumor', 'glioma_tumor', 'no_tumor', 'glioma_tumor',\n",
       "       'meningioma_tumor', 'meningioma_tumor'], dtype='<U16')"
      ]
     },
     "execution_count": 39,
     "metadata": {},
     "output_type": "execute_result"
    }
   ],
   "source": [
    "#convert numeric classes to real name class\n",
    "pred_class = np.array(list(list(labels.keys())[list(labels.values()).index(i)] for i in yhat_classes))\n",
    "pred_class"
   ]
  },
  {
   "cell_type": "code",
   "execution_count": 40,
   "metadata": {
    "colab": {},
    "colab_type": "code",
    "id": "3WPjIJJQeIQM"
   },
   "outputs": [],
   "source": [
    "#calculating metrics for a neural network model using sklearn\n",
    "from sklearn.metrics import accuracy_score\n",
    "from sklearn.metrics import precision_score\n",
    "from sklearn.metrics import recall_score\n",
    "from sklearn.metrics import f1_score\n",
    "from sklearn.metrics import confusion_matrix"
   ]
  },
  {
   "cell_type": "code",
   "execution_count": 41,
   "metadata": {
    "colab": {
     "base_uri": "https://localhost:8080/",
     "height": 153
    },
    "colab_type": "code",
    "id": "HVvx5c6BeKWm",
    "outputId": "baca2a32-fd2e-4fad-fe16-01d8a738705a"
   },
   "outputs": [
    {
     "data": {
      "text/plain": [
       "array([0, 0, 1, 2, 3, 0, 1, 3, 3, 2, 3, 3, 0, 3, 0, 1, 3, 2, 0, 2, 2, 2,\n",
       "       1, 0, 2, 3, 1, 1, 1, 1, 3, 2, 2, 1, 0, 3, 0, 3, 0, 2, 0, 0, 0, 1,\n",
       "       1, 3, 0, 2, 1, 1, 3, 1, 2, 1, 1, 2, 1, 2, 1, 2, 1, 1, 1, 1, 1, 1,\n",
       "       2, 1, 3, 1, 3, 2, 1, 0, 1, 1, 2, 2, 1, 3, 0, 1, 3, 0, 2, 3, 3, 3,\n",
       "       1, 3, 0, 3, 2, 2, 2, 0, 2, 1, 1, 2, 2, 1, 2, 2, 1, 1, 2, 2, 2, 1,\n",
       "       3, 3, 1, 1, 3, 1, 2, 2, 2, 1, 3, 0, 1, 1, 1, 3, 3, 1, 3, 3, 2, 3,\n",
       "       1, 2, 0, 1, 0, 1, 3, 0, 0, 1, 0, 2, 3, 2, 1, 1, 2, 3, 0, 0, 2, 2,\n",
       "       2, 0, 2, 0, 1, 1], dtype=int64)"
      ]
     },
     "execution_count": 41,
     "metadata": {},
     "output_type": "execute_result"
    }
   ],
   "source": [
    "testy = np.array([np.where(r==1)[0][0] for r in test_label_batch])\n",
    "testy"
   ]
  },
  {
   "cell_type": "code",
   "execution_count": 42,
   "metadata": {
    "colab": {
     "base_uri": "https://localhost:8080/",
     "height": 561
    },
    "colab_type": "code",
    "id": "6hE6YLtdeL4R",
    "outputId": "c4a96a30-6f20-4d8b-80de-2cdc921f54cf"
   },
   "outputs": [
    {
     "data": {
      "text/plain": [
       "array(['glioma_tumor', 'glioma_tumor', 'meningioma_tumor', 'no_tumor',\n",
       "       'pituitary_tumor', 'glioma_tumor', 'meningioma_tumor',\n",
       "       'pituitary_tumor', 'pituitary_tumor', 'no_tumor',\n",
       "       'pituitary_tumor', 'pituitary_tumor', 'glioma_tumor',\n",
       "       'pituitary_tumor', 'glioma_tumor', 'meningioma_tumor',\n",
       "       'pituitary_tumor', 'no_tumor', 'glioma_tumor', 'no_tumor',\n",
       "       'no_tumor', 'no_tumor', 'meningioma_tumor', 'glioma_tumor',\n",
       "       'no_tumor', 'pituitary_tumor', 'meningioma_tumor',\n",
       "       'meningioma_tumor', 'meningioma_tumor', 'meningioma_tumor',\n",
       "       'pituitary_tumor', 'no_tumor', 'no_tumor', 'meningioma_tumor',\n",
       "       'glioma_tumor', 'pituitary_tumor', 'glioma_tumor',\n",
       "       'pituitary_tumor', 'glioma_tumor', 'no_tumor', 'glioma_tumor',\n",
       "       'glioma_tumor', 'glioma_tumor', 'meningioma_tumor',\n",
       "       'meningioma_tumor', 'pituitary_tumor', 'glioma_tumor', 'no_tumor',\n",
       "       'meningioma_tumor', 'meningioma_tumor', 'pituitary_tumor',\n",
       "       'meningioma_tumor', 'no_tumor', 'meningioma_tumor',\n",
       "       'meningioma_tumor', 'no_tumor', 'meningioma_tumor', 'no_tumor',\n",
       "       'meningioma_tumor', 'no_tumor', 'meningioma_tumor',\n",
       "       'meningioma_tumor', 'meningioma_tumor', 'meningioma_tumor',\n",
       "       'meningioma_tumor', 'meningioma_tumor', 'no_tumor',\n",
       "       'meningioma_tumor', 'pituitary_tumor', 'meningioma_tumor',\n",
       "       'pituitary_tumor', 'no_tumor', 'meningioma_tumor', 'glioma_tumor',\n",
       "       'meningioma_tumor', 'meningioma_tumor', 'no_tumor', 'no_tumor',\n",
       "       'meningioma_tumor', 'pituitary_tumor', 'glioma_tumor',\n",
       "       'meningioma_tumor', 'pituitary_tumor', 'glioma_tumor', 'no_tumor',\n",
       "       'pituitary_tumor', 'pituitary_tumor', 'pituitary_tumor',\n",
       "       'meningioma_tumor', 'pituitary_tumor', 'glioma_tumor',\n",
       "       'pituitary_tumor', 'no_tumor', 'no_tumor', 'no_tumor',\n",
       "       'glioma_tumor', 'no_tumor', 'meningioma_tumor', 'meningioma_tumor',\n",
       "       'no_tumor', 'no_tumor', 'meningioma_tumor', 'no_tumor', 'no_tumor',\n",
       "       'meningioma_tumor', 'meningioma_tumor', 'no_tumor', 'no_tumor',\n",
       "       'no_tumor', 'meningioma_tumor', 'pituitary_tumor',\n",
       "       'pituitary_tumor', 'meningioma_tumor', 'meningioma_tumor',\n",
       "       'pituitary_tumor', 'meningioma_tumor', 'no_tumor', 'no_tumor',\n",
       "       'no_tumor', 'meningioma_tumor', 'pituitary_tumor', 'glioma_tumor',\n",
       "       'meningioma_tumor', 'meningioma_tumor', 'meningioma_tumor',\n",
       "       'pituitary_tumor', 'pituitary_tumor', 'meningioma_tumor',\n",
       "       'pituitary_tumor', 'pituitary_tumor', 'no_tumor',\n",
       "       'pituitary_tumor', 'meningioma_tumor', 'no_tumor', 'glioma_tumor',\n",
       "       'meningioma_tumor', 'glioma_tumor', 'meningioma_tumor',\n",
       "       'pituitary_tumor', 'glioma_tumor', 'glioma_tumor',\n",
       "       'meningioma_tumor', 'glioma_tumor', 'no_tumor', 'pituitary_tumor',\n",
       "       'no_tumor', 'meningioma_tumor', 'meningioma_tumor', 'no_tumor',\n",
       "       'pituitary_tumor', 'glioma_tumor', 'glioma_tumor', 'no_tumor',\n",
       "       'no_tumor', 'no_tumor', 'glioma_tumor', 'no_tumor', 'glioma_tumor',\n",
       "       'meningioma_tumor', 'meningioma_tumor'], dtype='<U16')"
      ]
     },
     "execution_count": 42,
     "metadata": {},
     "output_type": "execute_result"
    }
   ],
   "source": [
    "test_real = np.array(list(list(labels.keys())[list(labels.values()).index(i)] for i in testy))\n",
    "test_real"
   ]
  },
  {
   "cell_type": "code",
   "execution_count": 43,
   "metadata": {
    "colab": {
     "base_uri": "https://localhost:8080/",
     "height": 85
    },
    "colab_type": "code",
    "id": "RsmXDcd0eNSo",
    "outputId": "3484aa8c-522f-4901-e9b7-bc2fcde6f2ea"
   },
   "outputs": [
    {
     "name": "stdout",
     "output_type": "stream",
     "text": [
      "Accuracy: 0.950000\n",
      "Precision: 0.960370\n",
      "Recall: 0.943900\n",
      "F1 score: 0.947865\n"
     ]
    }
   ],
   "source": [
    "# accuracy: (tp + tn) / (p + n)\n",
    "accuracy = accuracy_score(testy, yhat_classes)\n",
    "print('Accuracy: %f' % accuracy)\n",
    "# precision tp / (tp + fp)\n",
    "precision = precision_score(testy, yhat_classes,average='macro')\n",
    "print('Precision: %f' % precision)\n",
    "# recall: tp / (tp + fn)\n",
    "recall = recall_score(testy, yhat_classes,average='macro')\n",
    "print('Recall: %f' % recall)\n",
    "# f1: 2 tp / (2 tp + fp + fn)\n",
    "f1 = f1_score(testy, yhat_classes,average='macro')\n",
    "print('F1 score: %f' % f1)"
   ]
  },
  {
   "cell_type": "code",
   "execution_count": null,
   "metadata": {},
   "outputs": [],
   "source": []
  }
 ],
 "metadata": {
  "accelerator": "GPU",
  "colab": {
   "collapsed_sections": [],
   "name": "brain_tumor_predicition.ipynb",
   "provenance": []
  },
  "kernelspec": {
   "display_name": "Python 3 (ipykernel)",
   "language": "python",
   "name": "python3"
  },
  "language_info": {
   "codemirror_mode": {
    "name": "ipython",
    "version": 3
   },
   "file_extension": ".py",
   "mimetype": "text/x-python",
   "name": "python",
   "nbconvert_exporter": "python",
   "pygments_lexer": "ipython3",
   "version": "3.9.12"
  }
 },
 "nbformat": 4,
 "nbformat_minor": 4
}
